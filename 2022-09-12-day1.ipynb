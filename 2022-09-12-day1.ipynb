{
 "cells": [
  {
   "cell_type": "markdown",
   "metadata": {},
   "source": [
    "# Using elliptic curves and isogenies in SageMath\n",
    "\n",
    "This is a short tutorial to get started with elliptic curves in SageMath. For a complete reference, see the official documentation:\n",
    "\n",
    "- [The \"getting started\" tutorial](http://doc.sagemath.org/html/en/tutorial/index.html);\n",
    "- [Other SageMath tutorials](http://doc.sagemath.org/html/en/thematic_tutorials/index.html);\n",
    "- [Finite fields (reference)](http://doc.sagemath.org/html/en/reference/finite_rings/index.html);\n",
    "- [Number fields](http://doc.sagemath.org/html/en/constructions/number_fields.html), [reference](http://doc.sagemath.org/html/en/reference/number_fields/index.html);\n",
    "- [Quadratic forms (reference)](http://doc.sagemath.org/html/en/reference/quadratic_forms/index.html);\n",
    "- [Elliptic curves](http://doc.sagemath.org/html/en/constructions/elliptic_curves.html), [reference](http://doc.sagemath.org/html/en/reference/curves/index.html).\n",
    "\n",
    "See also the book [Computational Mathematics with SageMath](http://dl.lateralis.org/public/sagebook/sagebook-ba6596d.pdf).\n",
    "\n",
    "## Finite fields"
   ]
  },
  {
   "cell_type": "markdown",
   "metadata": {},
   "source": [
    "We create finite fields by passing their cardinality"
   ]
  },
  {
   "cell_type": "code",
   "execution_count": 1,
   "metadata": {},
   "outputs": [],
   "source": [
    "Fp = GF(11)"
   ]
  },
  {
   "cell_type": "code",
   "execution_count": 2,
   "metadata": {},
   "outputs": [
    {
     "data": {
      "text/plain": [
       "Finite Field of size 11"
      ]
     },
     "execution_count": 2,
     "metadata": {},
     "output_type": "execute_result"
    }
   ],
   "source": [
    "Fp"
   ]
  },
  {
   "cell_type": "code",
   "execution_count": 3,
   "metadata": {},
   "outputs": [
    {
     "data": {
      "text/plain": [
       "Finite Field in z2 of size 11^2"
      ]
     },
     "execution_count": 3,
     "metadata": {},
     "output_type": "execute_result"
    }
   ],
   "source": [
    "Fq = GF(11^2)\n",
    "Fq"
   ]
  },
  {
   "cell_type": "markdown",
   "metadata": {},
   "source": [
    "For extension fields, the generator is obtained with the `.gen()` function."
   ]
  },
  {
   "cell_type": "code",
   "execution_count": 5,
   "metadata": {},
   "outputs": [
    {
     "data": {
      "text/plain": [
       "z2"
      ]
     },
     "execution_count": 5,
     "metadata": {},
     "output_type": "execute_result"
    }
   ],
   "source": [
    "z = Fq.gen()\n",
    "z"
   ]
  },
  {
   "cell_type": "code",
   "execution_count": 6,
   "metadata": {},
   "outputs": [
    {
     "data": {
      "text/plain": [
       "1"
      ]
     },
     "execution_count": 6,
     "metadata": {},
     "output_type": "execute_result"
    }
   ],
   "source": [
    "z^120"
   ]
  },
  {
   "cell_type": "code",
   "execution_count": 7,
   "metadata": {},
   "outputs": [
    {
     "data": {
      "text/plain": [
       "120"
      ]
     },
     "execution_count": 7,
     "metadata": {},
     "output_type": "execute_result"
    }
   ],
   "source": [
    "z.multiplicative_order()"
   ]
  },
  {
   "cell_type": "markdown",
   "metadata": {},
   "source": [
    "Same thing in one go"
   ]
  },
  {
   "cell_type": "code",
   "execution_count": 8,
   "metadata": {},
   "outputs": [
    {
     "data": {
      "text/plain": [
       "Finite Field in t of size 340282366920938463463374607431768211507^2"
      ]
     },
     "execution_count": 8,
     "metadata": {},
     "output_type": "execute_result"
    }
   ],
   "source": [
    "K.<t> = GF(next_prime(2^128)^2)\n",
    "K"
   ]
  },
  {
   "cell_type": "code",
   "execution_count": 9,
   "metadata": {},
   "outputs": [
    {
     "data": {
      "text/plain": [
       "Finite Field in t of size 340282366920938463463374607431768211507^2"
      ]
     },
     "execution_count": 9,
     "metadata": {},
     "output_type": "execute_result"
    }
   ],
   "source": [
    "parent(t)"
   ]
  },
  {
   "cell_type": "markdown",
   "metadata": {},
   "source": [
    "other rings"
   ]
  },
  {
   "cell_type": "code",
   "execution_count": 10,
   "metadata": {},
   "outputs": [
    {
     "data": {
      "text/plain": [
       "Rational Field"
      ]
     },
     "execution_count": 10,
     "metadata": {},
     "output_type": "execute_result"
    }
   ],
   "source": [
    "QQ"
   ]
  },
  {
   "cell_type": "code",
   "execution_count": 11,
   "metadata": {},
   "outputs": [
    {
     "data": {
      "text/plain": [
       "Integer Ring"
      ]
     },
     "execution_count": 11,
     "metadata": {},
     "output_type": "execute_result"
    }
   ],
   "source": [
    "ZZ"
   ]
  },
  {
   "cell_type": "markdown",
   "metadata": {},
   "source": [
    "## Elliptic curves"
   ]
  },
  {
   "cell_type": "markdown",
   "metadata": {},
   "source": [
    "Curves over $ℚ$"
   ]
  },
  {
   "cell_type": "code",
   "execution_count": 12,
   "metadata": {},
   "outputs": [
    {
     "data": {
      "text/plain": [
       "Elliptic Curve defined by y^2 = x^3 - 10*x + 10 over Rational Field"
      ]
     },
     "execution_count": 12,
     "metadata": {},
     "output_type": "execute_result"
    }
   ],
   "source": [
    "E = EllipticCurve([-10,10])\n",
    "E"
   ]
  },
  {
   "cell_type": "code",
   "execution_count": 13,
   "metadata": {},
   "outputs": [
    {
     "data": {
      "image/png": "[encoded data removed]",
      "text/plain": [
       "Graphics object consisting of 2 graphics primitives"
      ]
     },
     "execution_count": 13,
     "metadata": {},
     "output_type": "execute_result"
    }
   ],
   "source": [
    "E.plot()"
   ]
  },
  {
   "cell_type": "markdown",
   "metadata": {},
   "source": [
    "Cuvers over other fields"
   ]
  },
  {
   "cell_type": "code",
   "execution_count": 14,
   "metadata": {},
   "outputs": [
    {
     "data": {
      "text/plain": [
       "Elliptic Curve defined by y^2 = x^3 + x over Finite Field of size 11"
      ]
     },
     "execution_count": 14,
     "metadata": {},
     "output_type": "execute_result"
    }
   ],
   "source": [
    "F = EllipticCurve(GF(11), [1, 0])\n",
    "F"
   ]
  },
  {
   "cell_type": "code",
   "execution_count": 15,
   "metadata": {},
   "outputs": [
    {
     "data": {
      "text/plain": [
       "12"
      ]
     },
     "execution_count": 15,
     "metadata": {},
     "output_type": "execute_result"
    }
   ],
   "source": [
    "F.order()"
   ]
  },
  {
   "cell_type": "code",
   "execution_count": 16,
   "metadata": {},
   "outputs": [
    {
     "data": {
      "text/plain": [
       "12"
      ]
     },
     "execution_count": 16,
     "metadata": {},
     "output_type": "execute_result"
    }
   ],
   "source": [
    "F.cardinality()"
   ]
  },
  {
   "cell_type": "code",
   "execution_count": 17,
   "metadata": {},
   "outputs": [
    {
     "data": {
      "text/plain": [
       "[(0 : 0 : 1), (0 : 1 : 0), (5 : 3 : 1), (5 : 8 : 1), (7 : 3 : 1), (7 : 8 : 1), (8 : 5 : 1), (8 : 6 : 1), (9 : 1 : 1), (9 : 10 : 1), (10 : 3 : 1), (10 : 8 : 1)]"
      ]
     },
     "execution_count": 17,
     "metadata": {},
     "output_type": "execute_result"
    }
   ],
   "source": [
    "F.points()"
   ]
  },
  {
   "cell_type": "code",
   "execution_count": 18,
   "metadata": {},
   "outputs": [
    {
     "data": {
      "text/plain": [
       "(10 : 8 : 1)"
      ]
     },
     "execution_count": 18,
     "metadata": {},
     "output_type": "execute_result"
    }
   ],
   "source": [
    "P = F.random_point()\n",
    "P"
   ]
  },
  {
   "cell_type": "code",
   "execution_count": 19,
   "metadata": {},
   "outputs": [
    {
     "data": {
      "text/plain": [
       "4"
      ]
     },
     "execution_count": 19,
     "metadata": {},
     "output_type": "execute_result"
    }
   ],
   "source": [
    "P.order()"
   ]
  },
  {
   "cell_type": "markdown",
   "metadata": {},
   "source": [
    "Curves over number fields"
   ]
  },
  {
   "cell_type": "code",
   "execution_count": 20,
   "metadata": {},
   "outputs": [
    {
     "data": {
      "text/plain": [
       "Number Field in I with defining polynomial x^2 + 1 with I = 1*I"
      ]
     },
     "execution_count": 20,
     "metadata": {},
     "output_type": "execute_result"
    }
   ],
   "source": [
    "K = QQ[i]\n",
    "K"
   ]
  },
  {
   "cell_type": "code",
   "execution_count": 21,
   "metadata": {},
   "outputs": [
    {
     "data": {
      "text/plain": [
       "Elliptic Curve defined by y^2 = x^3 + 1 over Number Field in I with defining polynomial x^2 + 1 with I = 1*I"
      ]
     },
     "execution_count": 21,
     "metadata": {},
     "output_type": "execute_result"
    }
   ],
   "source": [
    "E = EllipticCurve(K, j=0)\n",
    "E"
   ]
  },
  {
   "cell_type": "code",
   "execution_count": 22,
   "metadata": {},
   "outputs": [
    {
     "data": {
      "text/plain": [
       "6"
      ]
     },
     "execution_count": 22,
     "metadata": {},
     "output_type": "execute_result"
    }
   ],
   "source": [
    "E.torsion_order()"
   ]
  },
  {
   "cell_type": "code",
   "execution_count": 23,
   "metadata": {},
   "outputs": [
    {
     "data": {
      "text/plain": [
       "[(-1 : 0 : 1),\n",
       " (0 : -1 : 1),\n",
       " (0 : 1 : 0),\n",
       " (0 : 1 : 1),\n",
       " (2 : -3 : 1),\n",
       " (2 : 3 : 1)]"
      ]
     },
     "execution_count": 23,
     "metadata": {},
     "output_type": "execute_result"
    }
   ],
   "source": [
    "E.torsion_points()"
   ]
  },
  {
   "cell_type": "code",
   "execution_count": 24,
   "metadata": {},
   "outputs": [
    {
     "data": {
      "text/plain": [
       "0"
      ]
     },
     "execution_count": 24,
     "metadata": {},
     "output_type": "execute_result"
    }
   ],
   "source": [
    "E.rank()"
   ]
  },
  {
   "cell_type": "code",
   "execution_count": 39,
   "metadata": {},
   "outputs": [
    {
     "data": {
      "text/plain": [
       "Elliptic Curve defined by y^2 + x*y = x^3 + 36*x + 3455 over Rational Field"
      ]
     },
     "execution_count": 39,
     "metadata": {},
     "output_type": "execute_result"
    }
   ],
   "source": [
    "E = EllipticCurve(j=1)\n",
    "E"
   ]
  },
  {
   "cell_type": "code",
   "execution_count": 40,
   "metadata": {},
   "outputs": [
    {
     "data": {
      "text/plain": [
       "Elliptic Curve defined by y^2 = x^3 + 46629*x + 161056566 over Rational Field"
      ]
     },
     "execution_count": 40,
     "metadata": {},
     "output_type": "execute_result"
    }
   ],
   "source": [
    "E.short_weierstrass_model()"
   ]
  },
  {
   "cell_type": "code",
   "execution_count": 41,
   "metadata": {},
   "outputs": [
    {
     "data": {
      "text/plain": [
       "1"
      ]
     },
     "execution_count": 41,
     "metadata": {},
     "output_type": "execute_result"
    }
   ],
   "source": [
    "E.torsion_order()"
   ]
  },
  {
   "cell_type": "code",
   "execution_count": 42,
   "metadata": {},
   "outputs": [
    {
     "data": {
      "text/plain": [
       "2"
      ]
     },
     "execution_count": 42,
     "metadata": {},
     "output_type": "execute_result"
    }
   ],
   "source": [
    "E.rank()"
   ]
  },
  {
   "cell_type": "code",
   "execution_count": 43,
   "metadata": {},
   "outputs": [
    {
     "data": {
      "text/plain": [
       "((13 : 72 : 1), (43 : 270 : 1))"
      ]
     },
     "execution_count": 43,
     "metadata": {},
     "output_type": "execute_result"
    }
   ],
   "source": [
    "P, Q = E.gens()\n",
    "P, Q"
   ]
  },
  {
   "cell_type": "code",
   "execution_count": 44,
   "metadata": {},
   "outputs": [
    {
     "data": {
      "text/plain": [
       "+Infinity"
      ]
     },
     "execution_count": 44,
     "metadata": {},
     "output_type": "execute_result"
    }
   ],
   "source": [
    "P.order()"
   ]
  },
  {
   "cell_type": "code",
   "execution_count": 45,
   "metadata": {},
   "outputs": [
    {
     "data": {
      "text/plain": [
       "(-14 : 23 : 1)"
      ]
     },
     "execution_count": 45,
     "metadata": {},
     "output_type": "execute_result"
    }
   ],
   "source": [
    "P + P"
   ]
  },
  {
   "cell_type": "code",
   "execution_count": 46,
   "metadata": {},
   "outputs": [
    {
     "data": {
      "text/plain": [
       "(2738814396081478074164342358580444642585010217987286322086213/29439691676132293080318764323353351862155591578774792639929 : 4322772205991782791649180930126846791518251982934842146164121658655553155126660057907684920/5051261892530217040902924725666439913266827080618013578371709184537008691430244914816467 : 1)"
      ]
     },
     "execution_count": 46,
     "metadata": {},
     "output_type": "execute_result"
    }
   ],
   "source": [
    "13*P"
   ]
  },
  {
   "cell_type": "code",
   "execution_count": 47,
   "metadata": {},
   "outputs": [
    {
     "data": {
      "text/plain": [
       "Elliptic Curve defined by y^2 + x*y = x^3 + 36*x + 3455 over Number Field in I with defining polynomial x^2 + 1 with I = 1*I"
      ]
     },
     "execution_count": 47,
     "metadata": {},
     "output_type": "execute_result"
    }
   ],
   "source": [
    "EK = E.change_ring(K)\n",
    "EK"
   ]
  },
  {
   "cell_type": "code",
   "execution_count": 48,
   "metadata": {},
   "outputs": [
    {
     "ename": "ValueError",
     "evalue": "There is insufficient data to determine the rank - 2-descent gave lower bound 1 and upper bound 3",
     "output_type": "error",
     "traceback": [
      "\u001b[0;31m---------------------------------------------------------------------------\u001b[0m",
      "\u001b[0;31mValueError\u001b[0m                                Traceback (most recent call last)",
      "Input \u001b[0;32mIn [48]\u001b[0m, in \u001b[0;36m<cell line: 1>\u001b[0;34m()\u001b[0m\n\u001b[0;32m----> 1\u001b[0m \u001b[43mEK\u001b[49m\u001b[38;5;241;43m.\u001b[39;49m\u001b[43mrank\u001b[49m\u001b[43m(\u001b[49m\u001b[43m)\u001b[49m\n",
      "File \u001b[0;32m/usr/lib/python3.10/site-packages/sage/schemes/elliptic_curves/ell_number_field.py:2409\u001b[0m, in \u001b[0;36mEllipticCurve_number_field.rank\u001b[0;34m(self, **kwds)\u001b[0m\n\u001b[1;32m   2407\u001b[0m     \u001b[38;5;28;01mreturn\u001b[39;00m lower\n\u001b[1;32m   2408\u001b[0m \u001b[38;5;28;01melse\u001b[39;00m:\n\u001b[0;32m-> 2409\u001b[0m     \u001b[38;5;28;01mraise\u001b[39;00m \u001b[38;5;167;01mValueError\u001b[39;00m(\u001b[38;5;124m'\u001b[39m\u001b[38;5;124mThere is insufficient data to determine the rank - 2-descent gave lower bound \u001b[39m\u001b[38;5;132;01m%s\u001b[39;00m\u001b[38;5;124m and upper bound \u001b[39m\u001b[38;5;132;01m%s\u001b[39;00m\u001b[38;5;124m'\u001b[39m \u001b[38;5;241m%\u001b[39m (lower, upper))\n",
      "\u001b[0;31mValueError\u001b[0m: There is insufficient data to determine the rank - 2-descent gave lower bound 1 and upper bound 3"
     ]
    }
   ],
   "source": [
    "EK.rank()"
   ]
  },
  {
   "cell_type": "markdown",
   "metadata": {},
   "source": [
    "## Isomorphisms"
   ]
  },
  {
   "cell_type": "code",
   "execution_count": 49,
   "metadata": {},
   "outputs": [
    {
     "data": {
      "text/plain": [
       "Elliptic Curve defined by y^2 = x^3 + x over Finite Field of size 11"
      ]
     },
     "execution_count": 49,
     "metadata": {},
     "output_type": "execute_result"
    }
   ],
   "source": [
    "F"
   ]
  },
  {
   "cell_type": "code",
   "execution_count": 50,
   "metadata": {},
   "outputs": [
    {
     "data": {
      "text/plain": [
       "[Elliptic-curve endomorphism of Elliptic Curve defined by y^2 = x^3 + x over Finite Field of size 11\n",
       "   Via:  (u,r,s,t) = (1, 0, 0, 0),\n",
       " Elliptic-curve endomorphism of Elliptic Curve defined by y^2 = x^3 + x over Finite Field of size 11\n",
       "   Via:  (u,r,s,t) = (10, 0, 0, 0)]"
      ]
     },
     "execution_count": 50,
     "metadata": {},
     "output_type": "execute_result"
    }
   ],
   "source": [
    "F.automorphisms()"
   ]
  },
  {
   "cell_type": "code",
   "execution_count": 51,
   "metadata": {},
   "outputs": [
    {
     "data": {
      "text/plain": [
       "[Elliptic-curve endomorphism of Elliptic Curve defined by y^2 = x^3 + x over Finite Field in z2 of size 11^2\n",
       "   Via:  (u,r,s,t) = (1, 0, 0, 0),\n",
       " Elliptic-curve endomorphism of Elliptic Curve defined by y^2 = x^3 + x over Finite Field in z2 of size 11^2\n",
       "   Via:  (u,r,s,t) = (10, 0, 0, 0),\n",
       " Elliptic-curve endomorphism of Elliptic Curve defined by y^2 = x^3 + x over Finite Field in z2 of size 11^2\n",
       "   Via:  (u,r,s,t) = (4*z2 + 3, 0, 0, 0),\n",
       " Elliptic-curve endomorphism of Elliptic Curve defined by y^2 = x^3 + x over Finite Field in z2 of size 11^2\n",
       "   Via:  (u,r,s,t) = (7*z2 + 8, 0, 0, 0)]"
      ]
     },
     "execution_count": 51,
     "metadata": {},
     "output_type": "execute_result"
    }
   ],
   "source": [
    "aut = F.change_ring(GF(11^2)).automorphisms()\n",
    "aut"
   ]
  },
  {
   "cell_type": "code",
   "execution_count": 52,
   "metadata": {},
   "outputs": [
    {
     "data": {
      "text/plain": [
       "(Elliptic-curve endomorphism of Elliptic Curve defined by y^2 = x^3 + x over Finite Field in z2 of size 11^2\n",
       "   Via:  (u,r,s,t) = (7*z2 + 8, 0, 0, 0),\n",
       " Elliptic-curve endomorphism of Elliptic Curve defined by y^2 = x^3 + x over Finite Field in z2 of size 11^2\n",
       "   Via:  (u,r,s,t) = (10, 0, 0, 0))"
      ]
     },
     "execution_count": 52,
     "metadata": {},
     "output_type": "execute_result"
    }
   ],
   "source": [
    "aut[3], aut[3]^2"
   ]
  },
  {
   "cell_type": "code",
   "execution_count": 53,
   "metadata": {},
   "outputs": [
    {
     "data": {
      "text/plain": [
       "True"
      ]
     },
     "execution_count": 53,
     "metadata": {},
     "output_type": "execute_result"
    }
   ],
   "source": [
    "G = EllipticCurve(GF(11), [3, 0])\n",
    "F.is_isomorphic(G)"
   ]
  },
  {
   "cell_type": "code",
   "execution_count": 54,
   "metadata": {},
   "outputs": [
    {
     "data": {
      "text/plain": [
       "Elliptic Curve defined by y^2 = x^3 + 3*x over Finite Field of size 11"
      ]
     },
     "execution_count": 54,
     "metadata": {},
     "output_type": "execute_result"
    }
   ],
   "source": [
    "G"
   ]
  },
  {
   "cell_type": "code",
   "execution_count": 55,
   "metadata": {},
   "outputs": [
    {
     "data": {
      "text/plain": [
       "1"
      ]
     },
     "execution_count": 55,
     "metadata": {},
     "output_type": "execute_result"
    }
   ],
   "source": [
    "G.j_invariant()"
   ]
  },
  {
   "cell_type": "code",
   "execution_count": 56,
   "metadata": {},
   "outputs": [
    {
     "data": {
      "text/plain": [
       "Elliptic-curve morphism:\n",
       "  From: Elliptic Curve defined by y^2 = x^3 + x over Finite Field of size 11\n",
       "  To:   Elliptic Curve defined by y^2 = x^3 + 3*x over Finite Field of size 11\n",
       "  Via:  (u,r,s,t) = (8, 0, 0, 0)"
      ]
     },
     "execution_count": 56,
     "metadata": {},
     "output_type": "execute_result"
    }
   ],
   "source": [
    "u = F.isomorphism_to(G)\n",
    "u"
   ]
  },
  {
   "cell_type": "markdown",
   "metadata": {},
   "source": [
    "Group structure"
   ]
  },
  {
   "cell_type": "code",
   "execution_count": 57,
   "metadata": {},
   "outputs": [
    {
     "data": {
      "text/plain": [
       "Additive abelian group isomorphic to Z/12 embedded in Abelian group of points on Elliptic Curve defined by y^2 = x^3 + x over Finite Field of size 11"
      ]
     },
     "execution_count": 57,
     "metadata": {},
     "output_type": "execute_result"
    }
   ],
   "source": [
    "F.abelian_group()"
   ]
  },
  {
   "cell_type": "code",
   "execution_count": 58,
   "metadata": {},
   "outputs": [
    {
     "data": {
      "text/plain": [
       "(7 : 8 : 1)"
      ]
     },
     "execution_count": 58,
     "metadata": {},
     "output_type": "execute_result"
    }
   ],
   "source": [
    "g = F.gens()[0]\n",
    "g"
   ]
  },
  {
   "cell_type": "code",
   "execution_count": 59,
   "metadata": {},
   "outputs": [
    {
     "data": {
      "text/plain": [
       "12"
      ]
     },
     "execution_count": 59,
     "metadata": {},
     "output_type": "execute_result"
    }
   ],
   "source": [
    "g.order()"
   ]
  },
  {
   "cell_type": "markdown",
   "metadata": {},
   "source": [
    "## Scalar multiplication"
   ]
  },
  {
   "cell_type": "code",
   "execution_count": 60,
   "metadata": {},
   "outputs": [
    {
     "data": {
      "text/plain": [
       "(7 : 8 : 1)"
      ]
     },
     "execution_count": 60,
     "metadata": {},
     "output_type": "execute_result"
    }
   ],
   "source": [
    "g"
   ]
  },
  {
   "cell_type": "code",
   "execution_count": 61,
   "metadata": {},
   "outputs": [
    {
     "data": {
      "text/plain": [
       "(0 : 1 : 0)"
      ]
     },
     "execution_count": 61,
     "metadata": {},
     "output_type": "execute_result"
    }
   ],
   "source": [
    "12*g"
   ]
  },
  {
   "cell_type": "code",
   "execution_count": 62,
   "metadata": {},
   "outputs": [
    {
     "data": {
      "text/plain": [
       "[(0, (0 : 1 : 0)),\n",
       " (1, (7 : 8 : 1)),\n",
       " (2, (9 : 1 : 1)),\n",
       " (3, (10 : 8 : 1)),\n",
       " (4, (5 : 3 : 1)),\n",
       " (5, (8 : 6 : 1)),\n",
       " (6, (0 : 0 : 1)),\n",
       " (7, (8 : 5 : 1)),\n",
       " (8, (5 : 8 : 1)),\n",
       " (9, (10 : 3 : 1)),\n",
       " (10, (9 : 10 : 1)),\n",
       " (11, (7 : 3 : 1))]"
      ]
     },
     "execution_count": 62,
     "metadata": {},
     "output_type": "execute_result"
    }
   ],
   "source": [
    "[(i, i*g) for i in range(12)]"
   ]
  },
  {
   "cell_type": "code",
   "execution_count": 63,
   "metadata": {},
   "outputs": [
    {
     "data": {
      "text/plain": [
       "((x^144 - 2*x^138 - 2*x^136 - x^134 + 3*x^132 - 5*x^130 - 5*x^128 - 5*x^126 - 4*x^124 + 5*x^122 + x^120 + 4*x^118 - 2*x^116 - 3*x^114 + 5*x^112 - 2*x^110 + 2*x^108 - x^106 - 4*x^104 + x^102 - 4*x^100 + 5*x^98 + x^94 - 4*x^92 - 3*x^90 - 3*x^88 + 3*x^86 - 3*x^84 - 4*x^82 + 3*x^80 + 2*x^78 + 5*x^76 + 2*x^74 - 2*x^72 + 2*x^70 + 5*x^68 + 2*x^66 + 3*x^64 - 4*x^62 - 3*x^60 + 3*x^58 - 3*x^56 - 3*x^54 - 4*x^52 + x^50 + 5*x^46 - 4*x^44 + x^42 - 4*x^40 - x^38 + 2*x^36 - 2*x^34 + 5*x^32 - 3*x^30 - 2*x^28 + 4*x^26 + x^24 + 5*x^22 - 4*x^20 - 5*x^18 - 5*x^16 - 5*x^14 + 3*x^12 - x^10 - 2*x^8 - 2*x^6 + 1)/(x^143 - 2*x^137 - 2*x^135 - x^133 + 3*x^131 - 5*x^129 - 5*x^127 - 5*x^125 - 4*x^123 + 5*x^121 + x^119 + 4*x^117 - 2*x^115 - 3*x^113 + 5*x^111 - 2*x^109 + 2*x^107 - x^105 - 4*x^103 + x^101 - 4*x^99 + 5*x^97 + x^93 - 4*x^91 - 3*x^89 - 3*x^87 + 3*x^85 - 5*x^83 - 5*x^81 - 5*x^79 - x^77 + 3*x^75 - x^73 - x^71 + 3*x^69 - x^67 - 5*x^65 - 5*x^63 - 5*x^61 + 3*x^59 - 3*x^57 - 3*x^55 - 4*x^53 + x^51 + 5*x^47 - 4*x^45 + x^43 - 4*x^41 - x^39 + 2*x^37 - 2*x^35 + 5*x^33 - 3*x^31 - 2*x^29 + 4*x^27 + x^25 + 5*x^23 - 4*x^21 - 5*x^19 - 5*x^17 - 5*x^15 + 3*x^13 - x^11 - 2*x^9 - 2*x^7 + x),\n",
       " (2*x^216*y + x^214*y - 3*x^212*y + x^210*y - x^208*y + 4*x^206*y - 5*x^204*y - 5*x^202*y - 3*x^200*y - x^198*y + 2*x^196*y - 4*x^194*y - 5*x^192*y + x^190*y - 5*x^186*y + 5*x^184*y + 3*x^182*y + x^180*y - 2*x^178*y + 5*x^176*y + 2*x^172*y - 5*x^168*y - 3*x^166*y + x^164*y + x^162*y - 2*x^160*y + 5*x^158*y + 3*x^154*y - 2*x^152*y + x^150*y + 2*x^148*y - x^146*y - 5*x^144*y - 2*x^142*y - 5*x^140*y - 4*x^138*y - 5*x^136*y - 2*x^132*y + 5*x^130*y + 4*x^128*y - 5*x^124*y + 4*x^122*y - 2*x^120*y + 4*x^118*y - x^116*y + 4*x^112*y - 4*x^110*y + x^108*y - 4*x^106*y + 4*x^104*y - x^100*y + 4*x^98*y - 2*x^96*y + 4*x^94*y - 5*x^92*y + 4*x^88*y + 5*x^86*y - 2*x^84*y - 5*x^80*y - 4*x^78*y - 5*x^76*y - 2*x^74*y - 5*x^72*y - x^70*y + 2*x^68*y + x^66*y - 2*x^64*y + 3*x^62*y + 5*x^58*y - 2*x^56*y + x^54*y + x^52*y - 3*x^50*y - 5*x^48*y + 2*x^44*y + 5*x^40*y - 2*x^38*y + x^36*y + 3*x^34*y + 5*x^32*y - 5*x^30*y + x^26*y - 5*x^24*y - 4*x^22*y + 2*x^20*y - x^18*y - 3*x^16*y - 5*x^14*y - 5*x^12*y + 4*x^10*y - x^8*y + x^6*y - 3*x^4*y + x^2*y + 2*y)/(2*x^216 + x^214 - 3*x^212 + x^210 - x^208 + 4*x^206 - 5*x^204 - 5*x^202 - 3*x^200 - x^198 + 2*x^196 - 4*x^194 - 5*x^192 + x^190 - 5*x^186 + 5*x^184 + 3*x^182 + x^180 - 2*x^178 + 5*x^176 + 2*x^172 - 5*x^168 - 3*x^166 + x^164 + x^162 - 2*x^160 + 5*x^158 + 5*x^156 + x^154 - 2*x^152 - 3*x^150 + 4*x^148 + 3*x^146 - 5*x^144 + 2*x^142 - 2*x^140 - x^138 - 3*x^136 + 2*x^134 + 3*x^132 - 2*x^130 - 3*x^124 - x^122 + 4*x^118 + 4*x^114 + 4*x^112 + x^110 - x^108 - 4*x^106 - 4*x^104 - 4*x^100 + x^96 + 3*x^94 + 2*x^88 - 3*x^86 - 2*x^84 + 3*x^82 + x^80 + 2*x^78 - 2*x^76 + 5*x^74 - 3*x^72 - 4*x^70 + 3*x^68 + 2*x^66 - x^64 - 5*x^62 - 5*x^60 + 2*x^58 - x^56 - x^54 + 3*x^52 + 5*x^50 - 2*x^46 - 5*x^42 + 2*x^40 - x^38 - 3*x^36 - 5*x^34 + 5*x^32 - x^28 + 5*x^26 + 4*x^24 - 2*x^22 + x^20 + 3*x^18 + 5*x^16 + 5*x^14 - 4*x^12 + x^10 - x^8 + 3*x^6 - x^4 - 2*x^2))"
      ]
     },
     "execution_count": 63,
     "metadata": {},
     "output_type": "execute_result"
    }
   ],
   "source": [
    "F.multiplication_by_m(12)"
   ]
  },
  {
   "cell_type": "code",
   "execution_count": 64,
   "metadata": {},
   "outputs": [],
   "source": [
    "%display latex"
   ]
  },
  {
   "cell_type": "code",
   "execution_count": 65,
   "metadata": {},
   "outputs": [
    {
     "data": {
      "text/html": [
       "<html>\\(\\displaystyle \\frac{x^{144} + 9 x^{138} + 9 x^{136} + 10 x^{134} + 3 x^{132} + 6 x^{130} + 6 x^{128} + 6 x^{126} + 7 x^{124} + 5 x^{122} + x^{120} + 4 x^{118} + 9 x^{116} + 8 x^{114} + 5 x^{112} + 9 x^{110} + 2 x^{108} + 10 x^{106} + 7 x^{104} + x^{102} + 7 x^{100} + 5 x^{98} + x^{94} + 7 x^{92} + 8 x^{90} + 8 x^{88} + 3 x^{86} + 8 x^{84} + 7 x^{82} + 3 x^{80} + 2 x^{78} + 5 x^{76} + 2 x^{74} + 9 x^{72} + 2 x^{70} + 5 x^{68} + 2 x^{66} + 3 x^{64} + 7 x^{62} + 8 x^{60} + 3 x^{58} + 8 x^{56} + 8 x^{54} + 7 x^{52} + x^{50} + 5 x^{46} + 7 x^{44} + x^{42} + 7 x^{40} + 10 x^{38} + 2 x^{36} + 9 x^{34} + 5 x^{32} + 8 x^{30} + 9 x^{28} + 4 x^{26} + x^{24} + 5 x^{22} + 7 x^{20} + 6 x^{18} + 6 x^{16} + 6 x^{14} + 3 x^{12} + 10 x^{10} + 9 x^{8} + 9 x^{6} + 1}{x^{143} + 9 x^{137} + 9 x^{135} + 10 x^{133} + 3 x^{131} + 6 x^{129} + 6 x^{127} + 6 x^{125} + 7 x^{123} + 5 x^{121} + x^{119} + 4 x^{117} + 9 x^{115} + 8 x^{113} + 5 x^{111} + 9 x^{109} + 2 x^{107} + 10 x^{105} + 7 x^{103} + x^{101} + 7 x^{99} + 5 x^{97} + x^{93} + 7 x^{91} + 8 x^{89} + 8 x^{87} + 3 x^{85} + 6 x^{83} + 6 x^{81} + 6 x^{79} + 10 x^{77} + 3 x^{75} + 10 x^{73} + 10 x^{71} + 3 x^{69} + 10 x^{67} + 6 x^{65} + 6 x^{63} + 6 x^{61} + 3 x^{59} + 8 x^{57} + 8 x^{55} + 7 x^{53} + x^{51} + 5 x^{47} + 7 x^{45} + x^{43} + 7 x^{41} + 10 x^{39} + 2 x^{37} + 9 x^{35} + 5 x^{33} + 8 x^{31} + 9 x^{29} + 4 x^{27} + x^{25} + 5 x^{23} + 7 x^{21} + 6 x^{19} + 6 x^{17} + 6 x^{15} + 3 x^{13} + 10 x^{11} + 9 x^{9} + 9 x^{7} + x}\\)</html>"
      ],
      "text/latex": [
       "$\\displaystyle \\frac{x^{144} + 9 x^{138} + 9 x^{136} + 10 x^{134} + 3 x^{132} + 6 x^{130} + 6 x^{128} + 6 x^{126} + 7 x^{124} + 5 x^{122} + x^{120} + 4 x^{118} + 9 x^{116} + 8 x^{114} + 5 x^{112} + 9 x^{110} + 2 x^{108} + 10 x^{106} + 7 x^{104} + x^{102} + 7 x^{100} + 5 x^{98} + x^{94} + 7 x^{92} + 8 x^{90} + 8 x^{88} + 3 x^{86} + 8 x^{84} + 7 x^{82} + 3 x^{80} + 2 x^{78} + 5 x^{76} + 2 x^{74} + 9 x^{72} + 2 x^{70} + 5 x^{68} + 2 x^{66} + 3 x^{64} + 7 x^{62} + 8 x^{60} + 3 x^{58} + 8 x^{56} + 8 x^{54} + 7 x^{52} + x^{50} + 5 x^{46} + 7 x^{44} + x^{42} + 7 x^{40} + 10 x^{38} + 2 x^{36} + 9 x^{34} + 5 x^{32} + 8 x^{30} + 9 x^{28} + 4 x^{26} + x^{24} + 5 x^{22} + 7 x^{20} + 6 x^{18} + 6 x^{16} + 6 x^{14} + 3 x^{12} + 10 x^{10} + 9 x^{8} + 9 x^{6} + 1}{x^{143} + 9 x^{137} + 9 x^{135} + 10 x^{133} + 3 x^{131} + 6 x^{129} + 6 x^{127} + 6 x^{125} + 7 x^{123} + 5 x^{121} + x^{119} + 4 x^{117} + 9 x^{115} + 8 x^{113} + 5 x^{111} + 9 x^{109} + 2 x^{107} + 10 x^{105} + 7 x^{103} + x^{101} + 7 x^{99} + 5 x^{97} + x^{93} + 7 x^{91} + 8 x^{89} + 8 x^{87} + 3 x^{85} + 6 x^{83} + 6 x^{81} + 6 x^{79} + 10 x^{77} + 3 x^{75} + 10 x^{73} + 10 x^{71} + 3 x^{69} + 10 x^{67} + 6 x^{65} + 6 x^{63} + 6 x^{61} + 3 x^{59} + 8 x^{57} + 8 x^{55} + 7 x^{53} + x^{51} + 5 x^{47} + 7 x^{45} + x^{43} + 7 x^{41} + 10 x^{39} + 2 x^{37} + 9 x^{35} + 5 x^{33} + 8 x^{31} + 9 x^{29} + 4 x^{27} + x^{25} + 5 x^{23} + 7 x^{21} + 6 x^{19} + 6 x^{17} + 6 x^{15} + 3 x^{13} + 10 x^{11} + 9 x^{9} + 9 x^{7} + x}$"
      ],
      "text/plain": [
       "(x^144 + 9*x^138 + 9*x^136 + 10*x^134 + 3*x^132 + 6*x^130 + 6*x^128 + 6*x^126 + 7*x^124 + 5*x^122 + x^120 + 4*x^118 + 9*x^116 + 8*x^114 + 5*x^112 + 9*x^110 + 2*x^108 + 10*x^106 + 7*x^104 + x^102 + 7*x^100 + 5*x^98 + x^94 + 7*x^92 + 8*x^90 + 8*x^88 + 3*x^86 + 8*x^84 + 7*x^82 + 3*x^80 + 2*x^78 + 5*x^76 + 2*x^74 + 9*x^72 + 2*x^70 + 5*x^68 + 2*x^66 + 3*x^64 + 7*x^62 + 8*x^60 + 3*x^58 + 8*x^56 + 8*x^54 + 7*x^52 + x^50 + 5*x^46 + 7*x^44 + x^42 + 7*x^40 + 10*x^38 + 2*x^36 + 9*x^34 + 5*x^32 + 8*x^30 + 9*x^28 + 4*x^26 + x^24 + 5*x^22 + 7*x^20 + 6*x^18 + 6*x^16 + 6*x^14 + 3*x^12 + 10*x^10 + 9*x^8 + 9*x^6 + 1)/(x^143 + 9*x^137 + 9*x^135 + 10*x^133 + 3*x^131 + 6*x^129 + 6*x^127 + 6*x^125 + 7*x^123 + 5*x^121 + x^119 + 4*x^117 + 9*x^115 + 8*x^113 + 5*x^111 + 9*x^109 + 2*x^107 + 10*x^105 + 7*x^103 + x^101 + 7*x^99 + 5*x^97 + x^93 + 7*x^91 + 8*x^89 + 8*x^87 + 3*x^85 + 6*x^83 + 6*x^81 + 6*x^79 + 10*x^77 + 3*x^75 + 10*x^73 + 10*x^71 + 3*x^69 + 10*x^67 + 6*x^65 + 6*x^63 + 6*x^61 + 3*x^59 + 8*x^57 + 8*x^55 + 7*x^53 + x^51 + 5*x^47 + 7*x^45 + x^43 + 7*x^41 + 10*x^39 + 2*x^37 + 9*x^35 + 5*x^33 + 8*x^31 + 9*x^29 + 4*x^27 + x^25 + 5*x^23 + 7*x^21 + 6*x^19 + 6*x^17 + 6*x^15 + 3*x^13 + 10*x^11 + 9*x^9 + 9*x^7 + x)"
      ]
     },
     "execution_count": 65,
     "metadata": {},
     "output_type": "execute_result"
    }
   ],
   "source": [
    "F.multiplication_by_m(12, x_only=True)"
   ]
  },
  {
   "cell_type": "code",
   "execution_count": 66,
   "metadata": {},
   "outputs": [
    {
     "data": {
      "text/html": [
       "<html>\\(\\displaystyle \\left(\\frac{x^{9} - x^{7} + 8 x^{5} + 3 x^{3} + 9 x}{9 x^{8} + 3 x^{6} + 8 x^{4} - x^{2} + 1}, \\frac{7 x^{12} y + 5 x^{6} y + 3 x^{4} y + 8 x^{2} y + y}{2 x^{12} + x^{10} + 8 x^{6} + 5 x^{2} + 4}\\right)\\)</html>"
      ],
      "text/latex": [
       "$\\displaystyle \\left(\\frac{x^{9} - x^{7} + 8 x^{5} + 3 x^{3} + 9 x}{9 x^{8} + 3 x^{6} + 8 x^{4} - x^{2} + 1}, \\frac{7 x^{12} y + 5 x^{6} y + 3 x^{4} y + 8 x^{2} y + y}{2 x^{12} + x^{10} + 8 x^{6} + 5 x^{2} + 4}\\right)$"
      ],
      "text/plain": [
       "((x^9 - x^7 - 3*x^5 + 3*x^3 - 2*x)/(-2*x^8 + 3*x^6 - 3*x^4 - x^2 + 1),\n",
       " (-4*x^12*y + 5*x^6*y + 3*x^4*y - 3*x^2*y + y)/(2*x^12 + x^10 - 3*x^6 + 5*x^2 + 4))"
      ]
     },
     "execution_count": 66,
     "metadata": {},
     "output_type": "execute_result"
    }
   ],
   "source": [
    "m3 = F.multiplication_by_m(3)\n",
    "m3"
   ]
  },
  {
   "cell_type": "code",
   "execution_count": 67,
   "metadata": {},
   "outputs": [
    {
     "data": {
      "text/html": [
       "<html>\\(\\displaystyle 9 x^{8} + 3 x^{6} + 8 x^{4} - x^{2} + 1\\)</html>"
      ],
      "text/latex": [
       "$\\displaystyle 9 x^{8} + 3 x^{6} + 8 x^{4} - x^{2} + 1$"
      ],
      "text/plain": [
       "-2*x^8 + 3*x^6 - 3*x^4 - x^2 + 1"
      ]
     },
     "execution_count": 67,
     "metadata": {},
     "output_type": "execute_result"
    }
   ],
   "source": [
    "d3 = m3[0].denominator()\n",
    "d3"
   ]
  },
  {
   "cell_type": "code",
   "execution_count": 68,
   "metadata": {},
   "outputs": [
    {
     "data": {
      "text/html": [
       "<html>\\(\\displaystyle \\newcommand{\\Bold}[1]{\\mathbf{#1}}\\Bold{F}_{11}[x, y]\\)</html>"
      ],
      "text/latex": [
       "$\\displaystyle \\newcommand{\\Bold}[1]{\\mathbf{#1}}\\Bold{F}_{11}[x, y]$"
      ],
      "text/plain": [
       "Multivariate Polynomial Ring in x, y over Finite Field of size 11"
      ]
     },
     "execution_count": 68,
     "metadata": {},
     "output_type": "execute_result"
    }
   ],
   "source": [
    "parent(d3)"
   ]
  },
  {
   "cell_type": "code",
   "execution_count": 69,
   "metadata": {},
   "outputs": [
    {
     "data": {
      "text/html": [
       "<html>\\(\\displaystyle \\newcommand{\\Bold}[1]{\\mathbf{#1}}\\Bold{F}_{11}[x]\\)</html>"
      ],
      "text/latex": [
       "$\\displaystyle \\newcommand{\\Bold}[1]{\\mathbf{#1}}\\Bold{F}_{11}[x]$"
      ],
      "text/plain": [
       "Univariate Polynomial Ring in x over Finite Field of size 11"
      ]
     },
     "execution_count": 69,
     "metadata": {},
     "output_type": "execute_result"
    }
   ],
   "source": [
    "d3 = d3.univariate_polynomial()\n",
    "parent(d3)"
   ]
  },
  {
   "cell_type": "code",
   "execution_count": 70,
   "metadata": {},
   "outputs": [
    {
     "data": {
      "text/html": [
       "<html>\\(\\displaystyle \\left(9\\right) \\cdot (x + 5)^{2} \\cdot (x + 6)^{2} \\cdot (x^{2} + 5)^{2}\\)</html>"
      ],
      "text/latex": [
       "$\\displaystyle \\left(9\\right) \\cdot (x + 5)^{2} \\cdot (x + 6)^{2} \\cdot (x^{2} + 5)^{2}$"
      ],
      "text/plain": [
       "(9) * (x + 5)^2 * (x + 6)^2 * (x^2 + 5)^2"
      ]
     },
     "execution_count": 70,
     "metadata": {},
     "output_type": "execute_result"
    }
   ],
   "source": [
    "d3.factor()"
   ]
  },
  {
   "cell_type": "code",
   "execution_count": 71,
   "metadata": {},
   "outputs": [
    {
     "data": {
      "text/html": [
       "<html>\\(\\displaystyle \\left(5 : 8 : 1\\right)\\)</html>"
      ],
      "text/latex": [
       "$\\displaystyle \\left(5 : 8 : 1\\right)$"
      ],
      "text/plain": [
       "(5 : 8 : 1)"
      ]
     },
     "execution_count": 71,
     "metadata": {},
     "output_type": "execute_result"
    }
   ],
   "source": [
    "P = F.lift_x(-6)\n",
    "P"
   ]
  },
  {
   "cell_type": "code",
   "execution_count": 72,
   "metadata": {},
   "outputs": [
    {
     "data": {
      "text/html": [
       "<html>\\(\\displaystyle 3\\)</html>"
      ],
      "text/latex": [
       "$\\displaystyle 3$"
      ],
      "text/plain": [
       "3"
      ]
     },
     "execution_count": 72,
     "metadata": {},
     "output_type": "execute_result"
    }
   ],
   "source": [
    "P.order()"
   ]
  },
  {
   "cell_type": "code",
   "execution_count": 73,
   "metadata": {},
   "outputs": [
    {
     "ename": "ValueError",
     "evalue": "No point with x-coordinate 6 on Elliptic Curve defined by y^2 = x^3 + x over Finite Field of size 11",
     "output_type": "error",
     "traceback": [
      "\u001b[0;31m---------------------------------------------------------------------------\u001b[0m",
      "\u001b[0;31mValueError\u001b[0m                                Traceback (most recent call last)",
      "Input \u001b[0;32mIn [73]\u001b[0m, in \u001b[0;36m<cell line: 1>\u001b[0;34m()\u001b[0m\n\u001b[0;32m----> 1\u001b[0m Q \u001b[38;5;241m=\u001b[39m \u001b[43mF\u001b[49m\u001b[38;5;241;43m.\u001b[39;49m\u001b[43mlift_x\u001b[49m\u001b[43m(\u001b[49m\u001b[38;5;241;43m-\u001b[39;49m\u001b[43mInteger\u001b[49m\u001b[43m(\u001b[49m\u001b[38;5;241;43m5\u001b[39;49m\u001b[43m)\u001b[49m\u001b[43m)\u001b[49m\n",
      "File \u001b[0;32m/usr/lib/python3.10/site-packages/sage/schemes/elliptic_curves/ell_generic.py:900\u001b[0m, in \u001b[0;36mEllipticCurve_generic.lift_x\u001b[0;34m(self, x, all, extend)\u001b[0m\n\u001b[1;32m    898\u001b[0m         \u001b[38;5;28;01mreturn\u001b[39;00m []\n\u001b[1;32m    899\u001b[0m     \u001b[38;5;28;01melse\u001b[39;00m:\n\u001b[0;32m--> 900\u001b[0m         \u001b[38;5;28;01mraise\u001b[39;00m \u001b[38;5;167;01mValueError\u001b[39;00m(\u001b[38;5;124m\"\u001b[39m\u001b[38;5;124mNo point with x-coordinate \u001b[39m\u001b[38;5;132;01m{}\u001b[39;00m\u001b[38;5;124m on \u001b[39m\u001b[38;5;132;01m{}\u001b[39;00m\u001b[38;5;124m\"\u001b[39m\u001b[38;5;241m.\u001b[39mformat(x, \u001b[38;5;28mself\u001b[39m))\n\u001b[1;32m    902\u001b[0m \u001b[38;5;66;03m# Now make the extension needed to contain the y-coordinates:\u001b[39;00m\n\u001b[1;32m    904\u001b[0m \u001b[38;5;28;01mif\u001b[39;00m K\u001b[38;5;241m.\u001b[39mcharacteristic() \u001b[38;5;241m!=\u001b[39m \u001b[38;5;241m2\u001b[39m:  \u001b[38;5;66;03m# else we already defined F\u001b[39;00m\n",
      "\u001b[0;31mValueError\u001b[0m: No point with x-coordinate 6 on Elliptic Curve defined by y^2 = x^3 + x over Finite Field of size 11"
     ]
    }
   ],
   "source": [
    "Q = F.lift_x(-5)"
   ]
  },
  {
   "cell_type": "code",
   "execution_count": 74,
   "metadata": {},
   "outputs": [
    {
     "data": {
      "text/html": [
       "<html>\\(\\displaystyle y^2 = x^{3} + x \\)</html>"
      ],
      "text/latex": [
       "$\\displaystyle y^2 = x^{3} + x $"
      ],
      "text/plain": [
       "Elliptic Curve defined by y^2 = x^3 + x over Finite Field of size 11"
      ]
     },
     "execution_count": 74,
     "metadata": {},
     "output_type": "execute_result"
    }
   ],
   "source": [
    "F"
   ]
  },
  {
   "cell_type": "code",
   "execution_count": 75,
   "metadata": {},
   "outputs": [
    {
     "data": {
      "text/html": [
       "<html>\\(\\displaystyle 2\\)</html>"
      ],
      "text/latex": [
       "$\\displaystyle 2$"
      ],
      "text/plain": [
       "2"
      ]
     },
     "execution_count": 75,
     "metadata": {},
     "output_type": "execute_result"
    }
   ],
   "source": [
    "y5 = GF(11)(-5^3 -5)\n",
    "y5"
   ]
  },
  {
   "cell_type": "code",
   "execution_count": 76,
   "metadata": {},
   "outputs": [
    {
     "data": {
      "text/html": [
       "<html>\\(\\displaystyle \\mathrm{False}\\)</html>"
      ],
      "text/latex": [
       "$\\displaystyle \\mathrm{False}$"
      ],
      "text/plain": [
       "False"
      ]
     },
     "execution_count": 76,
     "metadata": {},
     "output_type": "execute_result"
    }
   ],
   "source": [
    "y5.is_square()"
   ]
  },
  {
   "cell_type": "code",
   "execution_count": 77,
   "metadata": {},
   "outputs": [],
   "source": [
    "%display plain"
   ]
  },
  {
   "cell_type": "code",
   "execution_count": 78,
   "metadata": {},
   "outputs": [
    {
     "data": {
      "text/plain": [
       "Elliptic Curve defined by y^2 = x^3 + x over Finite Field in z2 of size 11^2"
      ]
     },
     "execution_count": 78,
     "metadata": {},
     "output_type": "execute_result"
    }
   ],
   "source": [
    "F2 = F.change_ring(GF(11^2))\n",
    "F2"
   ]
  },
  {
   "cell_type": "code",
   "execution_count": 79,
   "metadata": {},
   "outputs": [
    {
     "data": {
      "text/plain": [
       "(6 : 10*z2 + 2 : 1)"
      ]
     },
     "execution_count": 79,
     "metadata": {},
     "output_type": "execute_result"
    }
   ],
   "source": [
    "Q = F2.lift_x(-5)\n",
    "Q"
   ]
  },
  {
   "cell_type": "code",
   "execution_count": 80,
   "metadata": {},
   "outputs": [
    {
     "data": {
      "text/plain": [
       "3"
      ]
     },
     "execution_count": 80,
     "metadata": {},
     "output_type": "execute_result"
    }
   ],
   "source": [
    "Q.order()"
   ]
  },
  {
   "cell_type": "code",
   "execution_count": 81,
   "metadata": {},
   "outputs": [
    {
     "ename": "TypeError",
     "evalue": "unsupported operand parent(s) for +: 'Abelian group of points on Elliptic Curve defined by y^2 = x^3 + x over Finite Field of size 11' and 'Abelian group of points on Elliptic Curve defined by y^2 = x^3 + x over Finite Field in z2 of size 11^2'",
     "output_type": "error",
     "traceback": [
      "\u001b[0;31m---------------------------------------------------------------------------\u001b[0m",
      "\u001b[0;31mTypeError\u001b[0m                                 Traceback (most recent call last)",
      "Input \u001b[0;32mIn [81]\u001b[0m, in \u001b[0;36m<cell line: 1>\u001b[0;34m()\u001b[0m\n\u001b[0;32m----> 1\u001b[0m \u001b[43mP\u001b[49m\u001b[43m \u001b[49m\u001b[38;5;241;43m+\u001b[39;49m\u001b[43m \u001b[49m\u001b[43mQ\u001b[49m\n",
      "File \u001b[0;32m/usr/lib/python3.10/site-packages/sage/structure/element.pyx:1233\u001b[0m, in \u001b[0;36msage.structure.element.Element.__add__ (build/cythonized/sage/structure/element.c:11132)\u001b[0;34m()\u001b[0m\n\u001b[1;32m   1231\u001b[0m # Left and right are Sage elements => use coercion model\n\u001b[1;32m   1232\u001b[0m if BOTH_ARE_ELEMENT(cl):\n\u001b[0;32m-> 1233\u001b[0m     return coercion_model.bin_op(left, right, add)\n\u001b[1;32m   1234\u001b[0m \n\u001b[1;32m   1235\u001b[0m cdef long value\n",
      "File \u001b[0;32m/usr/lib/python3.10/site-packages/sage/structure/coerce.pyx:1248\u001b[0m, in \u001b[0;36msage.structure.coerce.CoercionModel.bin_op (build/cythonized/sage/structure/coerce.c:11837)\u001b[0;34m()\u001b[0m\n\u001b[1;32m   1246\u001b[0m     # We should really include the underlying error.\n\u001b[1;32m   1247\u001b[0m     # This causes so much headache.\n\u001b[0;32m-> 1248\u001b[0m     raise bin_op_exception(op, x, y)\n\u001b[1;32m   1249\u001b[0m \n\u001b[1;32m   1250\u001b[0m cpdef canonical_coercion(self, x, y):\n",
      "\u001b[0;31mTypeError\u001b[0m: unsupported operand parent(s) for +: 'Abelian group of points on Elliptic Curve defined by y^2 = x^3 + x over Finite Field of size 11' and 'Abelian group of points on Elliptic Curve defined by y^2 = x^3 + x over Finite Field in z2 of size 11^2'"
     ]
    }
   ],
   "source": [
    "P + Q"
   ]
  },
  {
   "cell_type": "code",
   "execution_count": 82,
   "metadata": {},
   "outputs": [],
   "source": [
    "P2 = F2(P)"
   ]
  },
  {
   "cell_type": "code",
   "execution_count": 83,
   "metadata": {},
   "outputs": [
    {
     "data": {
      "text/plain": [
       "(5*z2 + 1 : 2*z2 + 2 : 1)"
      ]
     },
     "execution_count": 83,
     "metadata": {},
     "output_type": "execute_result"
    }
   ],
   "source": [
    "P2 + Q"
   ]
  },
  {
   "cell_type": "code",
   "execution_count": 84,
   "metadata": {},
   "outputs": [
    {
     "data": {
      "text/plain": [
       "[(0 : 1 : 0),\n",
       " (6 : 10*z2 + 2 : 1),\n",
       " (6 : z2 + 9 : 1),\n",
       " (5 : 8 : 1),\n",
       " (5*z2 + 1 : 2*z2 + 2 : 1),\n",
       " (6*z2 + 10 : 9*z2 + 10 : 1),\n",
       " (5 : 3 : 1),\n",
       " (6*z2 + 10 : 2*z2 + 1 : 1),\n",
       " (5*z2 + 1 : 9*z2 + 9 : 1)]"
      ]
     },
     "execution_count": 84,
     "metadata": {},
     "output_type": "execute_result"
    }
   ],
   "source": [
    "[i*P2 + j*Q for i in range(3) for j in range(3)]"
   ]
  },
  {
   "cell_type": "code",
   "execution_count": 85,
   "metadata": {},
   "outputs": [
    {
     "data": {
      "text/plain": [
       "[(6, 2), (5, 2), (6*z2 + 10, 2), (5*z2 + 1, 2)]"
      ]
     },
     "execution_count": 85,
     "metadata": {},
     "output_type": "execute_result"
    }
   ],
   "source": [
    "d3.roots(GF(11^2))"
   ]
  },
  {
   "cell_type": "code",
   "execution_count": 86,
   "metadata": {},
   "outputs": [
    {
     "data": {
      "text/plain": [
       "True"
      ]
     },
     "execution_count": 86,
     "metadata": {},
     "output_type": "execute_result"
    }
   ],
   "source": [
    "d3.is_square()"
   ]
  },
  {
   "cell_type": "code",
   "execution_count": 87,
   "metadata": {},
   "outputs": [
    {
     "data": {
      "text/plain": [
       "3*x^4 + 6*x^2 + 10"
      ]
     },
     "execution_count": 87,
     "metadata": {},
     "output_type": "execute_result"
    }
   ],
   "source": [
    "d3.sqrt()"
   ]
  },
  {
   "cell_type": "code",
   "execution_count": 88,
   "metadata": {},
   "outputs": [
    {
     "data": {
      "text/plain": [
       "3*x^4 + 6*x^2 + 10"
      ]
     },
     "execution_count": 88,
     "metadata": {},
     "output_type": "execute_result"
    }
   ],
   "source": [
    "F.division_polynomial(3)"
   ]
  },
  {
   "cell_type": "markdown",
   "metadata": {},
   "source": [
    "## Isogenies\n",
    "\n",
    "Construct an isogeny with given kernel"
   ]
  },
  {
   "cell_type": "code",
   "execution_count": 89,
   "metadata": {},
   "outputs": [
    {
     "data": {
      "text/plain": [
       "((7 : 8 : 1),\n",
       " Abelian group of points on Elliptic Curve defined by y^2 = x^3 + x over Finite Field of size 11)"
      ]
     },
     "execution_count": 89,
     "metadata": {},
     "output_type": "execute_result"
    }
   ],
   "source": [
    "g, parent(g)"
   ]
  },
  {
   "cell_type": "code",
   "execution_count": 90,
   "metadata": {},
   "outputs": [
    {
     "data": {
      "text/plain": [
       "(0 : 0 : 1)"
      ]
     },
     "execution_count": 90,
     "metadata": {},
     "output_type": "execute_result"
    }
   ],
   "source": [
    "origin = 6*g\n",
    "origin"
   ]
  },
  {
   "cell_type": "code",
   "execution_count": 91,
   "metadata": {},
   "outputs": [
    {
     "data": {
      "text/plain": [
       "(0 : 0 : 1)"
      ]
     },
     "execution_count": 91,
     "metadata": {},
     "output_type": "execute_result"
    }
   ],
   "source": [
    "F.point([0,0])"
   ]
  },
  {
   "cell_type": "code",
   "execution_count": 92,
   "metadata": {},
   "outputs": [
    {
     "data": {
      "text/plain": [
       "Isogeny of degree 2 from Elliptic Curve defined by y^2 = x^3 + x over Finite Field of size 11 to Elliptic Curve defined by y^2 = x^3 + 7*x over Finite Field of size 11"
      ]
     },
     "execution_count": 92,
     "metadata": {},
     "output_type": "execute_result"
    }
   ],
   "source": [
    "I = F.isogeny(origin)\n",
    "I"
   ]
  },
  {
   "cell_type": "code",
   "execution_count": 93,
   "metadata": {},
   "outputs": [],
   "source": [
    "%display latex"
   ]
  },
  {
   "cell_type": "code",
   "execution_count": 94,
   "metadata": {},
   "outputs": [
    {
     "data": {
      "text/html": [
       "<html>\\(\\displaystyle \\left(\\frac{x^{2} + 1}{x}, \\frac{x^{2} y - y}{x^{2}}\\right)\\)</html>"
      ],
      "text/latex": [
       "$\\displaystyle \\left(\\frac{x^{2} + 1}{x}, \\frac{x^{2} y - y}{x^{2}}\\right)$"
      ],
      "text/plain": [
       "((x^2 + 1)/x, (x^2*y - y)/x^2)"
      ]
     },
     "execution_count": 94,
     "metadata": {},
     "output_type": "execute_result"
    }
   ],
   "source": [
    "I.rational_maps()"
   ]
  },
  {
   "cell_type": "code",
   "execution_count": 95,
   "metadata": {},
   "outputs": [],
   "source": [
    "FF = I.codomain()"
   ]
  },
  {
   "cell_type": "code",
   "execution_count": 96,
   "metadata": {},
   "outputs": [
    {
     "data": {
      "text/html": [
       "<html>\\(\\displaystyle y^2 = x^{3} + 7 x \\)</html>"
      ],
      "text/latex": [
       "$\\displaystyle y^2 = x^{3} + 7 x $"
      ],
      "text/plain": [
       "Elliptic Curve defined by y^2 = x^3 + 7*x over Finite Field of size 11"
      ]
     },
     "execution_count": 96,
     "metadata": {},
     "output_type": "execute_result"
    }
   ],
   "source": [
    "FF"
   ]
  },
  {
   "cell_type": "code",
   "execution_count": 97,
   "metadata": {},
   "outputs": [
    {
     "data": {
      "text/html": [
       "<html>\\(\\displaystyle \\newcommand{\\ZZ}{\\Bold{Z}}\\newcommand{\\Bold}[1]{\\mathbf{#1}}\\frac{\\ZZ}{2\\ZZ} \\oplus \\frac{\\ZZ}{6\\ZZ}\\)</html>"
      ],
      "text/latex": [
       "$\\displaystyle \\newcommand{\\ZZ}{\\Bold{Z}}\\newcommand{\\Bold}[1]{\\mathbf{#1}}\\frac{\\ZZ}{2\\ZZ} \\oplus \\frac{\\ZZ}{6\\ZZ}$"
      ],
      "text/plain": [
       "Additive abelian group isomorphic to Z/6 + Z/2 embedded in Abelian group of points on Elliptic Curve defined by y^2 = x^3 + 7*x over Finite Field of size 11"
      ]
     },
     "execution_count": 97,
     "metadata": {},
     "output_type": "execute_result"
    }
   ],
   "source": [
    "FF.abelian_group()"
   ]
  },
  {
   "cell_type": "code",
   "execution_count": 98,
   "metadata": {},
   "outputs": [
    {
     "data": {
      "text/html": [
       "<html>\\(\\displaystyle \\newcommand{\\ZZ}{\\Bold{Z}}\\newcommand{\\Bold}[1]{\\mathbf{#1}}\\frac{\\ZZ}{12\\ZZ}\\)</html>"
      ],
      "text/latex": [
       "$\\displaystyle \\newcommand{\\ZZ}{\\Bold{Z}}\\newcommand{\\Bold}[1]{\\mathbf{#1}}\\frac{\\ZZ}{12\\ZZ}$"
      ],
      "text/plain": [
       "Additive abelian group isomorphic to Z/12 embedded in Abelian group of points on Elliptic Curve defined by y^2 = x^3 + x over Finite Field of size 11"
      ]
     },
     "execution_count": 98,
     "metadata": {},
     "output_type": "execute_result"
    }
   ],
   "source": [
    "F.abelian_group()"
   ]
  },
  {
   "cell_type": "code",
   "execution_count": 99,
   "metadata": {},
   "outputs": [
    {
     "data": {
      "image/png": "[encoded data removed]",
      "text/plain": [
       "Graphics object consisting of 1 graphics primitive"
      ]
     },
     "execution_count": 99,
     "metadata": {},
     "output_type": "execute_result"
    }
   ],
   "source": [
    "FF.plot()"
   ]
  },
  {
   "cell_type": "markdown",
   "metadata": {},
   "source": [
    "The same example, over the rationals"
   ]
  },
  {
   "cell_type": "code",
   "execution_count": 100,
   "metadata": {},
   "outputs": [],
   "source": [
    "%display plain"
   ]
  },
  {
   "cell_type": "code",
   "execution_count": 101,
   "metadata": {},
   "outputs": [
    {
     "data": {
      "text/plain": [
       "Elliptic Curve defined by y^2 = x^3 + x over Rational Field"
      ]
     },
     "execution_count": 101,
     "metadata": {},
     "output_type": "execute_result"
    }
   ],
   "source": [
    "E = EllipticCurve([1,0])\n",
    "E"
   ]
  },
  {
   "cell_type": "code",
   "execution_count": 102,
   "metadata": {},
   "outputs": [
    {
     "data": {
      "text/plain": [
       "(0 : 0 : 1)"
      ]
     },
     "execution_count": 102,
     "metadata": {},
     "output_type": "execute_result"
    }
   ],
   "source": [
    "P = E.lift_x(0)\n",
    "P"
   ]
  },
  {
   "cell_type": "code",
   "execution_count": 103,
   "metadata": {},
   "outputs": [
    {
     "data": {
      "text/plain": [
       "2"
      ]
     },
     "execution_count": 103,
     "metadata": {},
     "output_type": "execute_result"
    }
   ],
   "source": [
    "P.order()"
   ]
  },
  {
   "cell_type": "code",
   "execution_count": 104,
   "metadata": {},
   "outputs": [
    {
     "data": {
      "text/plain": [
       "Elliptic Curve defined by y^2 = x^3 - 4*x over Rational Field"
      ]
     },
     "execution_count": 104,
     "metadata": {},
     "output_type": "execute_result"
    }
   ],
   "source": [
    "J = E.isogeny(P)\n",
    "EE = J.codomain()\n",
    "EE"
   ]
  },
  {
   "cell_type": "markdown",
   "metadata": {},
   "source": [
    "In (very) limited cases, Sage can compute the isogeny given the image curve and the degree"
   ]
  },
  {
   "cell_type": "code",
   "execution_count": 105,
   "metadata": {},
   "outputs": [],
   "source": [
    "JJ = E.isogeny(None, codomain=EE, degree=2)"
   ]
  },
  {
   "cell_type": "code",
   "execution_count": 106,
   "metadata": {},
   "outputs": [
    {
     "data": {
      "text/plain": [
       "True"
      ]
     },
     "execution_count": 106,
     "metadata": {},
     "output_type": "execute_result"
    }
   ],
   "source": [
    "J == JJ"
   ]
  },
  {
   "cell_type": "markdown",
   "metadata": {},
   "source": [
    "## Your turn!"
   ]
  },
  {
   "cell_type": "markdown",
   "metadata": {},
   "source": [
    "### Exercise 1\n",
    "\n",
    "Find a random curve over $𝔽_{127}$ with $129$ points."
   ]
  },
  {
   "cell_type": "markdown",
   "metadata": {},
   "source": [
    "By Hasse's theorem $127 + 1 - 2\\sqrt{127} ≤ \\#E(𝔽_{127}) ≤ 127 + 1 - 2\\sqrt{127}$ for any curve. In fact, it is a theorem that any order in this interval is reached by some curve.\n",
    "\n",
    "A first idea to find such a curve is to iterate over the $j$-invariants until such a curve is found. Unfortunately, this fails because Sage chooses one arbitrary curve among those that have the same $j$-invariant, and because $𝔽_{127}$ is not algebraically closed this does not cover all possible curves."
   ]
  },
  {
   "cell_type": "code",
   "execution_count": 109,
   "metadata": {},
   "outputs": [
    {
     "data": {
      "text/plain": [
       "[]"
      ]
     },
     "execution_count": 109,
     "metadata": {},
     "output_type": "execute_result"
    }
   ],
   "source": [
    "k = GF(127)\n",
    "[j for j in k if EllipticCurve(j=j).order() == 129]"
   ]
  },
  {
   "cell_type": "markdown",
   "metadata": {},
   "source": [
    "An inelegant way is thus to enumerate all possible curve equations, although this gives us lots of isomorphic curves."
   ]
  },
  {
   "cell_type": "code",
   "execution_count": 110,
   "metadata": {},
   "outputs": [
    {
     "name": "stdout",
     "output_type": "stream",
     "text": [
      "Elliptic Curve defined by y^2 = x^3 + 13 over Finite Field of size 127\n",
      "Elliptic Curve defined by y^2 = x^3 + 15 over Finite Field of size 127\n",
      "Elliptic Curve defined by y^2 = x^3 + 26 over Finite Field of size 127\n",
      "Elliptic Curve defined by y^2 = x^3 + 30 over Finite Field of size 127\n",
      "Elliptic Curve defined by y^2 = x^3 + 31 over Finite Field of size 127\n",
      "Elliptic Curve defined by y^2 = x^3 + 35 over Finite Field of size 127\n",
      "Elliptic Curve defined by y^2 = x^3 + 52 over Finite Field of size 127\n",
      "Elliptic Curve defined by y^2 = x^3 + 60 over Finite Field of size 127\n",
      "Elliptic Curve defined by y^2 = x^3 + 62 over Finite Field of size 127\n",
      "Elliptic Curve defined by y^2 = x^3 + 70 over Finite Field of size 127\n",
      "Elliptic Curve defined by y^2 = x^3 + 71 over Finite Field of size 127\n",
      "Elliptic Curve defined by y^2 = x^3 + 79 over Finite Field of size 127\n",
      "Elliptic Curve defined by y^2 = x^3 + 81 over Finite Field of size 127\n",
      "Elliptic Curve defined by y^2 = x^3 + 99 over Finite Field of size 127\n",
      "Elliptic Curve defined by y^2 = x^3 + 103 over Finite Field of size 127\n",
      "Elliptic Curve defined by y^2 = x^3 + 104 over Finite Field of size 127\n",
      "Elliptic Curve defined by y^2 = x^3 + 113 over Finite Field of size 127\n",
      "Elliptic Curve defined by y^2 = x^3 + 115 over Finite Field of size 127\n",
      "Elliptic Curve defined by y^2 = x^3 + 120 over Finite Field of size 127\n",
      "Elliptic Curve defined by y^2 = x^3 + 121 over Finite Field of size 127\n",
      "Elliptic Curve defined by y^2 = x^3 + 124 over Finite Field of size 127\n",
      "Elliptic Curve defined by y^2 = x^3 + x + 15 over Finite Field of size 127\n",
      "Elliptic Curve defined by y^2 = x^3 + x + 64 over Finite Field of size 127\n",
      "Elliptic Curve defined by y^2 = x^3 + 2*x + 16 over Finite Field of size 127\n",
      "Elliptic Curve defined by y^2 = x^3 + 2*x + 99 over Finite Field of size 127\n",
      "Elliptic Curve defined by y^2 = x^3 + 3*x + 66 over Finite Field of size 127\n",
      "Elliptic Curve defined by y^2 = x^3 + 3*x + 75 over Finite Field of size 127\n",
      "Elliptic Curve defined by y^2 = x^3 + 4*x + 4 over Finite Field of size 127\n",
      "Elliptic Curve defined by y^2 = x^3 + 4*x + 120 over Finite Field of size 127\n",
      "Elliptic Curve defined by y^2 = x^3 + 5*x + 7 over Finite Field of size 127\n",
      "Elliptic Curve defined by y^2 = x^3 + 5*x + 123 over Finite Field of size 127\n",
      "Elliptic Curve defined by y^2 = x^3 + 6*x + 80 over Finite Field of size 127\n",
      "Elliptic Curve defined by y^2 = x^3 + 6*x + 114 over Finite Field of size 127\n",
      "Elliptic Curve defined by y^2 = x^3 + 7*x + 80 over Finite Field of size 127\n",
      "Elliptic Curve defined by y^2 = x^3 + 7*x + 114 over Finite Field of size 127\n",
      "Elliptic Curve defined by y^2 = x^3 + 8*x + 1 over Finite Field of size 127\n",
      "Elliptic Curve defined by y^2 = x^3 + 8*x + 30 over Finite Field of size 127\n",
      "Elliptic Curve defined by y^2 = x^3 + 9*x + 50 over Finite Field of size 127\n",
      "Elliptic Curve defined by y^2 = x^3 + 9*x + 103 over Finite Field of size 127\n",
      "Elliptic Curve defined by y^2 = x^3 + 10*x + 97 over Finite Field of size 127\n",
      "Elliptic Curve defined by y^2 = x^3 + 10*x + 126 over Finite Field of size 127\n",
      "Elliptic Curve defined by y^2 = x^3 + 11*x + 38 over Finite Field of size 127\n",
      "Elliptic Curve defined by y^2 = x^3 + 11*x + 124 over Finite Field of size 127\n",
      "Elliptic Curve defined by y^2 = x^3 + 12*x + 20 over Finite Field of size 127\n",
      "Elliptic Curve defined by y^2 = x^3 + 12*x + 92 over Finite Field of size 127\n",
      "Elliptic Curve defined by y^2 = x^3 + 13*x + 26 over Finite Field of size 127\n",
      "Elliptic Curve defined by y^2 = x^3 + 13*x + 94 over Finite Field of size 127\n",
      "Elliptic Curve defined by y^2 = x^3 + 14*x + 20 over Finite Field of size 127\n",
      "Elliptic Curve defined by y^2 = x^3 + 14*x + 92 over Finite Field of size 127\n",
      "Elliptic Curve defined by y^2 = x^3 + 15*x + 13 over Finite Field of size 127\n",
      "Elliptic Curve defined by y^2 = x^3 + 15*x + 47 over Finite Field of size 127\n",
      "Elliptic Curve defined by y^2 = x^3 + 16*x + 32 over Finite Field of size 127\n",
      "Elliptic Curve defined by y^2 = x^3 + 16*x + 71 over Finite Field of size 127\n",
      "Elliptic Curve defined by y^2 = x^3 + 17*x + 25 over Finite Field of size 127\n",
      "Elliptic Curve defined by y^2 = x^3 + 17*x + 115 over Finite Field of size 127\n",
      "Elliptic Curve defined by y^2 = x^3 + 18*x + 76 over Finite Field of size 127\n",
      "Elliptic Curve defined by y^2 = x^3 + 18*x + 121 over Finite Field of size 127\n",
      "Elliptic Curve defined by y^2 = x^3 + 19*x + 15 over Finite Field of size 127\n",
      "Elliptic Curve defined by y^2 = x^3 + 19*x + 64 over Finite Field of size 127\n",
      "Elliptic Curve defined by y^2 = x^3 + 20*x + 56 over Finite Field of size 127\n",
      "Elliptic Curve defined by y^2 = x^3 + 20*x + 95 over Finite Field of size 127\n",
      "Elliptic Curve defined by y^2 = x^3 + 21*x + 76 over Finite Field of size 127\n",
      "Elliptic Curve defined by y^2 = x^3 + 21*x + 121 over Finite Field of size 127\n",
      "Elliptic Curve defined by y^2 = x^3 + 22*x + 31 over Finite Field of size 127\n",
      "Elliptic Curve defined by y^2 = x^3 + 22*x + 73 over Finite Field of size 127\n",
      "Elliptic Curve defined by y^2 = x^3 + 23*x + 33 over Finite Field of size 127\n",
      "Elliptic Curve defined by y^2 = x^3 + 23*x + 101 over Finite Field of size 127\n",
      "Elliptic Curve defined by y^2 = x^3 + 24*x + 5 over Finite Field of size 127\n",
      "Elliptic Curve defined by y^2 = x^3 + 24*x + 23 over Finite Field of size 127\n",
      "Elliptic Curve defined by y^2 = x^3 + 25*x + 1 over Finite Field of size 127\n",
      "Elliptic Curve defined by y^2 = x^3 + 25*x + 30 over Finite Field of size 127\n",
      "Elliptic Curve defined by y^2 = x^3 + 26*x + 70 over Finite Field of size 127\n",
      "Elliptic Curve defined by y^2 = x^3 + 26*x + 87 over Finite Field of size 127\n",
      "Elliptic Curve defined by y^2 = x^3 + 27*x + 7 over Finite Field of size 127\n",
      "Elliptic Curve defined by y^2 = x^3 + 27*x + 123 over Finite Field of size 127\n",
      "Elliptic Curve defined by y^2 = x^3 + 28*x + 5 over Finite Field of size 127\n",
      "Elliptic Curve defined by y^2 = x^3 + 28*x + 23 over Finite Field of size 127\n",
      "Elliptic Curve defined by y^2 = x^3 + 29*x + 24 over Finite Field of size 127\n",
      "Elliptic Curve defined by y^2 = x^3 + 29*x + 77 over Finite Field of size 127\n",
      "Elliptic Curve defined by y^2 = x^3 + 30*x + 35 over Finite Field of size 127\n",
      "Elliptic Curve defined by y^2 = x^3 + 30*x + 107 over Finite Field of size 127\n",
      "Elliptic Curve defined by y^2 = x^3 + 31*x + 13 over Finite Field of size 127\n",
      "Elliptic Curve defined by y^2 = x^3 + 31*x + 47 over Finite Field of size 127\n",
      "Elliptic Curve defined by y^2 = x^3 + 32*x + 8 over Finite Field of size 127\n",
      "Elliptic Curve defined by y^2 = x^3 + 32*x + 113 over Finite Field of size 127\n",
      "Elliptic Curve defined by y^2 = x^3 + 33*x + 63 over Finite Field of size 127\n",
      "Elliptic Curve defined by y^2 = x^3 + 33*x + 112 over Finite Field of size 127\n",
      "Elliptic Curve defined by y^2 = x^3 + 34*x + 38 over Finite Field of size 127\n",
      "Elliptic Curve defined by y^2 = x^3 + 34*x + 124 over Finite Field of size 127\n",
      "Elliptic Curve defined by y^2 = x^3 + 35*x + 35 over Finite Field of size 127\n",
      "Elliptic Curve defined by y^2 = x^3 + 35*x + 107 over Finite Field of size 127\n",
      "Elliptic Curve defined by y^2 = x^3 + 36*x + 19 over Finite Field of size 127\n",
      "Elliptic Curve defined by y^2 = x^3 + 36*x + 62 over Finite Field of size 127\n",
      "Elliptic Curve defined by y^2 = x^3 + 37*x + 31 over Finite Field of size 127\n",
      "Elliptic Curve defined by y^2 = x^3 + 37*x + 73 over Finite Field of size 127\n",
      "Elliptic Curve defined by y^2 = x^3 + 38*x + 16 over Finite Field of size 127\n",
      "Elliptic Curve defined by y^2 = x^3 + 38*x + 99 over Finite Field of size 127\n",
      "Elliptic Curve defined by y^2 = x^3 + 39*x + 3 over Finite Field of size 127\n",
      "Elliptic Curve defined by y^2 = x^3 + 39*x + 89 over Finite Field of size 127\n",
      "Elliptic Curve defined by y^2 = x^3 + 40*x + 14 over Finite Field of size 127\n",
      "Elliptic Curve defined by y^2 = x^3 + 40*x + 119 over Finite Field of size 127\n",
      "Elliptic Curve defined by y^2 = x^3 + 41*x + 25 over Finite Field of size 127\n",
      "Elliptic Curve defined by y^2 = x^3 + 41*x + 115 over Finite Field of size 127\n",
      "Elliptic Curve defined by y^2 = x^3 + 42*x + 19 over Finite Field of size 127\n",
      "Elliptic Curve defined by y^2 = x^3 + 42*x + 62 over Finite Field of size 127\n",
      "Elliptic Curve defined by y^2 = x^3 + 43*x + 24 over Finite Field of size 127\n",
      "Elliptic Curve defined by y^2 = x^3 + 43*x + 77 over Finite Field of size 127\n",
      "Elliptic Curve defined by y^2 = x^3 + 44*x + 50 over Finite Field of size 127\n"
     ]
    },
    {
     "name": "stdout",
     "output_type": "stream",
     "text": [
      "Elliptic Curve defined by y^2 = x^3 + 44*x + 103 over Finite Field of size 127\n",
      "Elliptic Curve defined by y^2 = x^3 + 45*x + 65 over Finite Field of size 127\n",
      "Elliptic Curve defined by y^2 = x^3 + 45*x + 108 over Finite Field of size 127\n",
      "Elliptic Curve defined by y^2 = x^3 + 46*x + 40 over Finite Field of size 127\n",
      "Elliptic Curve defined by y^2 = x^3 + 46*x + 57 over Finite Field of size 127\n",
      "Elliptic Curve defined by y^2 = x^3 + 47*x + 4 over Finite Field of size 127\n",
      "Elliptic Curve defined by y^2 = x^3 + 47*x + 120 over Finite Field of size 127\n",
      "Elliptic Curve defined by y^2 = x^3 + 48*x + 33 over Finite Field of size 127\n",
      "Elliptic Curve defined by y^2 = x^3 + 48*x + 101 over Finite Field of size 127\n",
      "Elliptic Curve defined by y^2 = x^3 + 49*x + 19 over Finite Field of size 127\n",
      "Elliptic Curve defined by y^2 = x^3 + 49*x + 62 over Finite Field of size 127\n",
      "Elliptic Curve defined by y^2 = x^3 + 50*x + 32 over Finite Field of size 127\n",
      "Elliptic Curve defined by y^2 = x^3 + 50*x + 71 over Finite Field of size 127\n",
      "Elliptic Curve defined by y^2 = x^3 + 51*x + 67 over Finite Field of size 127\n",
      "Elliptic Curve defined by y^2 = x^3 + 51*x + 125 over Finite Field of size 127\n",
      "Elliptic Curve defined by y^2 = x^3 + 52*x + 81 over Finite Field of size 127\n",
      "Elliptic Curve defined by y^2 = x^3 + 52*x + 117 over Finite Field of size 127\n",
      "Elliptic Curve defined by y^2 = x^3 + 53*x + 12 over Finite Field of size 127\n",
      "Elliptic Curve defined by y^2 = x^3 + 53*x + 102 over Finite Field of size 127\n",
      "Elliptic Curve defined by y^2 = x^3 + 54*x + 97 over Finite Field of size 127\n",
      "Elliptic Curve defined by y^2 = x^3 + 54*x + 126 over Finite Field of size 127\n",
      "Elliptic Curve defined by y^2 = x^3 + 55*x + 24 over Finite Field of size 127\n",
      "Elliptic Curve defined by y^2 = x^3 + 55*x + 77 over Finite Field of size 127\n",
      "Elliptic Curve defined by y^2 = x^3 + 56*x + 33 over Finite Field of size 127\n",
      "Elliptic Curve defined by y^2 = x^3 + 56*x + 101 over Finite Field of size 127\n",
      "Elliptic Curve defined by y^2 = x^3 + 57*x + 66 over Finite Field of size 127\n",
      "Elliptic Curve defined by y^2 = x^3 + 57*x + 75 over Finite Field of size 127\n",
      "Elliptic Curve defined by y^2 = x^3 + 58*x + 6 over Finite Field of size 127\n",
      "Elliptic Curve defined by y^2 = x^3 + 58*x + 51 over Finite Field of size 127\n",
      "Elliptic Curve defined by y^2 = x^3 + 59*x + 27 over Finite Field of size 127\n",
      "Elliptic Curve defined by y^2 = x^3 + 59*x + 48 over Finite Field of size 127\n",
      "Elliptic Curve defined by y^2 = x^3 + 60*x + 104 over Finite Field of size 127\n",
      "Elliptic Curve defined by y^2 = x^3 + 60*x + 122 over Finite Field of size 127\n",
      "Elliptic Curve defined by y^2 = x^3 + 61*x + 32 over Finite Field of size 127\n",
      "Elliptic Curve defined by y^2 = x^3 + 61*x + 71 over Finite Field of size 127\n",
      "Elliptic Curve defined by y^2 = x^3 + 62*x + 35 over Finite Field of size 127\n",
      "Elliptic Curve defined by y^2 = x^3 + 62*x + 107 over Finite Field of size 127\n",
      "Elliptic Curve defined by y^2 = x^3 + 63*x + 97 over Finite Field of size 127\n",
      "Elliptic Curve defined by y^2 = x^3 + 63*x + 126 over Finite Field of size 127\n",
      "Elliptic Curve defined by y^2 = x^3 + 64*x + 2 over Finite Field of size 127\n",
      "Elliptic Curve defined by y^2 = x^3 + 64*x + 60 over Finite Field of size 127\n",
      "Elliptic Curve defined by y^2 = x^3 + 65*x + 10 over Finite Field of size 127\n",
      "Elliptic Curve defined by y^2 = x^3 + 65*x + 46 over Finite Field of size 127\n",
      "Elliptic Curve defined by y^2 = x^3 + 66*x + 28 over Finite Field of size 127\n",
      "Elliptic Curve defined by y^2 = x^3 + 66*x + 111 over Finite Field of size 127\n",
      "Elliptic Curve defined by y^2 = x^3 + 67*x + 66 over Finite Field of size 127\n",
      "Elliptic Curve defined by y^2 = x^3 + 67*x + 75 over Finite Field of size 127\n",
      "Elliptic Curve defined by y^2 = x^3 + 68*x + 31 over Finite Field of size 127\n",
      "Elliptic Curve defined by y^2 = x^3 + 68*x + 73 over Finite Field of size 127\n",
      "Elliptic Curve defined by y^2 = x^3 + 69*x + 25 over Finite Field of size 127\n",
      "Elliptic Curve defined by y^2 = x^3 + 69*x + 115 over Finite Field of size 127\n",
      "Elliptic Curve defined by y^2 = x^3 + 70*x + 104 over Finite Field of size 127\n",
      "Elliptic Curve defined by y^2 = x^3 + 70*x + 122 over Finite Field of size 127\n",
      "Elliptic Curve defined by y^2 = x^3 + 71*x + 52 over Finite Field of size 127\n",
      "Elliptic Curve defined by y^2 = x^3 + 71*x + 61 over Finite Field of size 127\n",
      "Elliptic Curve defined by y^2 = x^3 + 72*x + 79 over Finite Field of size 127\n",
      "Elliptic Curve defined by y^2 = x^3 + 72*x + 100 over Finite Field of size 127\n",
      "Elliptic Curve defined by y^2 = x^3 + 73*x + 2 over Finite Field of size 127\n",
      "Elliptic Curve defined by y^2 = x^3 + 73*x + 60 over Finite Field of size 127\n",
      "Elliptic Curve defined by y^2 = x^3 + 74*x + 50 over Finite Field of size 127\n",
      "Elliptic Curve defined by y^2 = x^3 + 74*x + 103 over Finite Field of size 127\n",
      "Elliptic Curve defined by y^2 = x^3 + 75*x + 5 over Finite Field of size 127\n",
      "Elliptic Curve defined by y^2 = x^3 + 75*x + 23 over Finite Field of size 127\n",
      "Elliptic Curve defined by y^2 = x^3 + 76*x + 4 over Finite Field of size 127\n",
      "Elliptic Curve defined by y^2 = x^3 + 76*x + 120 over Finite Field of size 127\n",
      "Elliptic Curve defined by y^2 = x^3 + 77*x + 28 over Finite Field of size 127\n",
      "Elliptic Curve defined by y^2 = x^3 + 77*x + 111 over Finite Field of size 127\n",
      "Elliptic Curve defined by y^2 = x^3 + 78*x + 54 over Finite Field of size 127\n",
      "Elliptic Curve defined by y^2 = x^3 + 78*x + 96 over Finite Field of size 127\n",
      "Elliptic Curve defined by y^2 = x^3 + 79*x + 52 over Finite Field of size 127\n",
      "Elliptic Curve defined by y^2 = x^3 + 79*x + 61 over Finite Field of size 127\n",
      "Elliptic Curve defined by y^2 = x^3 + 80*x + 67 over Finite Field of size 127\n",
      "Elliptic Curve defined by y^2 = x^3 + 80*x + 125 over Finite Field of size 127\n",
      "Elliptic Curve defined by y^2 = x^3 + 81*x + 13 over Finite Field of size 127\n",
      "Elliptic Curve defined by y^2 = x^3 + 81*x + 47 over Finite Field of size 127\n",
      "Elliptic Curve defined by y^2 = x^3 + 82*x + 38 over Finite Field of size 127\n",
      "Elliptic Curve defined by y^2 = x^3 + 82*x + 124 over Finite Field of size 127\n",
      "Elliptic Curve defined by y^2 = x^3 + 83*x + 12 over Finite Field of size 127\n",
      "Elliptic Curve defined by y^2 = x^3 + 83*x + 102 over Finite Field of size 127\n",
      "Elliptic Curve defined by y^2 = x^3 + 84*x + 79 over Finite Field of size 127\n",
      "Elliptic Curve defined by y^2 = x^3 + 84*x + 100 over Finite Field of size 127\n",
      "Elliptic Curve defined by y^2 = x^3 + 85*x + 54 over Finite Field of size 127\n",
      "Elliptic Curve defined by y^2 = x^3 + 85*x + 96 over Finite Field of size 127\n",
      "Elliptic Curve defined by y^2 = x^3 + 86*x + 6 over Finite Field of size 127\n",
      "Elliptic Curve defined by y^2 = x^3 + 86*x + 51 over Finite Field of size 127\n",
      "Elliptic Curve defined by y^2 = x^3 + 87*x + 16 over Finite Field of size 127\n",
      "Elliptic Curve defined by y^2 = x^3 + 87*x + 99 over Finite Field of size 127\n",
      "Elliptic Curve defined by y^2 = x^3 + 88*x + 76 over Finite Field of size 127\n",
      "Elliptic Curve defined by y^2 = x^3 + 88*x + 121 over Finite Field of size 127\n",
      "Elliptic Curve defined by y^2 = x^3 + 89*x + 14 over Finite Field of size 127\n",
      "Elliptic Curve defined by y^2 = x^3 + 89*x + 119 over Finite Field of size 127\n",
      "Elliptic Curve defined by y^2 = x^3 + 90*x + 27 over Finite Field of size 127\n",
      "Elliptic Curve defined by y^2 = x^3 + 90*x + 48 over Finite Field of size 127\n",
      "Elliptic Curve defined by y^2 = x^3 + 91*x + 54 over Finite Field of size 127\n",
      "Elliptic Curve defined by y^2 = x^3 + 91*x + 96 over Finite Field of size 127\n",
      "Elliptic Curve defined by y^2 = x^3 + 92*x + 10 over Finite Field of size 127\n",
      "Elliptic Curve defined by y^2 = x^3 + 92*x + 46 over Finite Field of size 127\n",
      "Elliptic Curve defined by y^2 = x^3 + 93*x + 65 over Finite Field of size 127\n",
      "Elliptic Curve defined by y^2 = x^3 + 93*x + 108 over Finite Field of size 127\n",
      "Elliptic Curve defined by y^2 = x^3 + 94*x + 1 over Finite Field of size 127\n",
      "Elliptic Curve defined by y^2 = x^3 + 94*x + 30 over Finite Field of size 127\n",
      "Elliptic Curve defined by y^2 = x^3 + 95*x + 7 over Finite Field of size 127\n",
      "Elliptic Curve defined by y^2 = x^3 + 95*x + 123 over Finite Field of size 127\n",
      "Elliptic Curve defined by y^2 = x^3 + 96*x + 40 over Finite Field of size 127\n",
      "Elliptic Curve defined by y^2 = x^3 + 96*x + 57 over Finite Field of size 127\n",
      "Elliptic Curve defined by y^2 = x^3 + 97*x + 10 over Finite Field of size 127\n"
     ]
    },
    {
     "name": "stdout",
     "output_type": "stream",
     "text": [
      "Elliptic Curve defined by y^2 = x^3 + 97*x + 46 over Finite Field of size 127\n",
      "Elliptic Curve defined by y^2 = x^3 + 98*x + 79 over Finite Field of size 127\n",
      "Elliptic Curve defined by y^2 = x^3 + 98*x + 100 over Finite Field of size 127\n",
      "Elliptic Curve defined by y^2 = x^3 + 99*x + 81 over Finite Field of size 127\n",
      "Elliptic Curve defined by y^2 = x^3 + 99*x + 117 over Finite Field of size 127\n",
      "Elliptic Curve defined by y^2 = x^3 + 100*x + 8 over Finite Field of size 127\n",
      "Elliptic Curve defined by y^2 = x^3 + 100*x + 113 over Finite Field of size 127\n",
      "Elliptic Curve defined by y^2 = x^3 + 101*x + 20 over Finite Field of size 127\n",
      "Elliptic Curve defined by y^2 = x^3 + 101*x + 92 over Finite Field of size 127\n",
      "Elliptic Curve defined by y^2 = x^3 + 102*x + 63 over Finite Field of size 127\n",
      "Elliptic Curve defined by y^2 = x^3 + 102*x + 112 over Finite Field of size 127\n",
      "Elliptic Curve defined by y^2 = x^3 + 103*x + 81 over Finite Field of size 127\n",
      "Elliptic Curve defined by y^2 = x^3 + 103*x + 117 over Finite Field of size 127\n",
      "Elliptic Curve defined by y^2 = x^3 + 104*x + 52 over Finite Field of size 127\n",
      "Elliptic Curve defined by y^2 = x^3 + 104*x + 61 over Finite Field of size 127\n",
      "Elliptic Curve defined by y^2 = x^3 + 105*x + 27 over Finite Field of size 127\n",
      "Elliptic Curve defined by y^2 = x^3 + 105*x + 48 over Finite Field of size 127\n",
      "Elliptic Curve defined by y^2 = x^3 + 106*x + 3 over Finite Field of size 127\n",
      "Elliptic Curve defined by y^2 = x^3 + 106*x + 89 over Finite Field of size 127\n",
      "Elliptic Curve defined by y^2 = x^3 + 107*x + 15 over Finite Field of size 127\n",
      "Elliptic Curve defined by y^2 = x^3 + 107*x + 64 over Finite Field of size 127\n",
      "Elliptic Curve defined by y^2 = x^3 + 108*x + 56 over Finite Field of size 127\n",
      "Elliptic Curve defined by y^2 = x^3 + 108*x + 95 over Finite Field of size 127\n",
      "Elliptic Curve defined by y^2 = x^3 + 109*x + 3 over Finite Field of size 127\n",
      "Elliptic Curve defined by y^2 = x^3 + 109*x + 89 over Finite Field of size 127\n",
      "Elliptic Curve defined by y^2 = x^3 + 110*x + 6 over Finite Field of size 127\n",
      "Elliptic Curve defined by y^2 = x^3 + 110*x + 51 over Finite Field of size 127\n",
      "Elliptic Curve defined by y^2 = x^3 + 111*x + 28 over Finite Field of size 127\n",
      "Elliptic Curve defined by y^2 = x^3 + 111*x + 111 over Finite Field of size 127\n",
      "Elliptic Curve defined by y^2 = x^3 + 112*x + 40 over Finite Field of size 127\n",
      "Elliptic Curve defined by y^2 = x^3 + 112*x + 57 over Finite Field of size 127\n",
      "Elliptic Curve defined by y^2 = x^3 + 113*x + 70 over Finite Field of size 127\n",
      "Elliptic Curve defined by y^2 = x^3 + 113*x + 87 over Finite Field of size 127\n",
      "Elliptic Curve defined by y^2 = x^3 + 114*x + 80 over Finite Field of size 127\n",
      "Elliptic Curve defined by y^2 = x^3 + 114*x + 114 over Finite Field of size 127\n",
      "Elliptic Curve defined by y^2 = x^3 + 115*x + 70 over Finite Field of size 127\n",
      "Elliptic Curve defined by y^2 = x^3 + 115*x + 87 over Finite Field of size 127\n",
      "Elliptic Curve defined by y^2 = x^3 + 116*x + 65 over Finite Field of size 127\n",
      "Elliptic Curve defined by y^2 = x^3 + 116*x + 108 over Finite Field of size 127\n",
      "Elliptic Curve defined by y^2 = x^3 + 117*x + 2 over Finite Field of size 127\n",
      "Elliptic Curve defined by y^2 = x^3 + 117*x + 60 over Finite Field of size 127\n",
      "Elliptic Curve defined by y^2 = x^3 + 118*x + 12 over Finite Field of size 127\n",
      "Elliptic Curve defined by y^2 = x^3 + 118*x + 102 over Finite Field of size 127\n",
      "Elliptic Curve defined by y^2 = x^3 + 119*x + 63 over Finite Field of size 127\n",
      "Elliptic Curve defined by y^2 = x^3 + 119*x + 112 over Finite Field of size 127\n",
      "Elliptic Curve defined by y^2 = x^3 + 120*x + 26 over Finite Field of size 127\n",
      "Elliptic Curve defined by y^2 = x^3 + 120*x + 94 over Finite Field of size 127\n",
      "Elliptic Curve defined by y^2 = x^3 + 121*x + 26 over Finite Field of size 127\n",
      "Elliptic Curve defined by y^2 = x^3 + 121*x + 94 over Finite Field of size 127\n",
      "Elliptic Curve defined by y^2 = x^3 + 122*x + 8 over Finite Field of size 127\n",
      "Elliptic Curve defined by y^2 = x^3 + 122*x + 113 over Finite Field of size 127\n",
      "Elliptic Curve defined by y^2 = x^3 + 123*x + 67 over Finite Field of size 127\n",
      "Elliptic Curve defined by y^2 = x^3 + 123*x + 125 over Finite Field of size 127\n",
      "Elliptic Curve defined by y^2 = x^3 + 124*x + 104 over Finite Field of size 127\n",
      "Elliptic Curve defined by y^2 = x^3 + 124*x + 122 over Finite Field of size 127\n",
      "Elliptic Curve defined by y^2 = x^3 + 125*x + 14 over Finite Field of size 127\n",
      "Elliptic Curve defined by y^2 = x^3 + 125*x + 119 over Finite Field of size 127\n",
      "Elliptic Curve defined by y^2 = x^3 + 126*x + 56 over Finite Field of size 127\n",
      "Elliptic Curve defined by y^2 = x^3 + 126*x + 95 over Finite Field of size 127\n"
     ]
    }
   ],
   "source": [
    "for a in k:\n",
    "    for b in k:\n",
    "        if 4*a^3 + 27*b^2 != 0:\n",
    "            E = EllipticCurve([a,b])\n",
    "            if E.order() == 129:\n",
    "                print(E)"
   ]
  },
  {
   "cell_type": "markdown",
   "metadata": {},
   "source": [
    "A more elegant way, if we know enough theory, is to realize that a curve of order $129$ must have trace $1$, and thus its quadratic twist has order $127$. It is enough to check that the curve computed by Sage has one of those two orders."
   ]
  },
  {
   "cell_type": "code",
   "execution_count": 111,
   "metadata": {},
   "outputs": [
    {
     "data": {
      "text/plain": [
       "[23, 70, 79, 92]"
      ]
     },
     "execution_count": 111,
     "metadata": {},
     "output_type": "execute_result"
    }
   ],
   "source": [
    "k = GF(127)\n",
    "[j for j in k if EllipticCurve(j=j).order() in [129, 127]]"
   ]
  },
  {
   "cell_type": "markdown",
   "metadata": {},
   "source": [
    "### Exercise 2\n",
    "\n",
    "Let $E$ be one such curve. What is the degree of the smallest extension $k$ of $𝔽_{127}$ such that $E(k)[129] \\simeq ℤ/129ℤ × ℤ/129ℤ$?"
   ]
  },
  {
   "cell_type": "markdown",
   "metadata": {},
   "source": [
    "Let's take the curve with $j=23$, and lets take the right twist of it"
   ]
  },
  {
   "cell_type": "code",
   "execution_count": 116,
   "metadata": {},
   "outputs": [
    {
     "data": {
      "text/plain": [
       "129"
      ]
     },
     "execution_count": 116,
     "metadata": {},
     "output_type": "execute_result"
    }
   ],
   "source": [
    "E = EllipticCurve(k, j=23).quadratic_twist()\n",
    "E.order()"
   ]
  },
  {
   "cell_type": "markdown",
   "metadata": {},
   "source": [
    "By factoring the division polynomial we see that its factors have degree at most $21$ (the factors are ordered by increasing degree). Thus the $129$-torsion points must live in an extension of degree $21$, or $42$ at most"
   ]
  },
  {
   "cell_type": "code",
   "execution_count": 122,
   "metadata": {},
   "outputs": [
    {
     "data": {
      "text/plain": [
       "(x^21 + 126*x^20 + 115*x^19 + 73*x^18 + 106*x^17 + 81*x^16 + 86*x^15 + 94*x^14 + 5*x^13 + 10*x^12 + 57*x^11 + 87*x^10 + 105*x^9 + 102*x^8 + 27*x^7 + 123*x^6 + 74*x^5 + 65*x^4 + 96*x^3 + 25*x^2 + 70*x + 118,\n",
       " 1)"
      ]
     },
     "execution_count": 122,
     "metadata": {},
     "output_type": "execute_result"
    }
   ],
   "source": [
    "f = E.division_polynomial(129).factor()[-1]\n",
    "f"
   ]
  },
  {
   "cell_type": "markdown",
   "metadata": {},
   "source": [
    "Let's double check that a root of the factor above corresponds to a point of order $129$ defined over $𝔽_{127^{21}}$."
   ]
  },
  {
   "cell_type": "code",
   "execution_count": 138,
   "metadata": {},
   "outputs": [
    {
     "data": {
      "text/plain": [
       "129"
      ]
     },
     "execution_count": 138,
     "metadata": {},
     "output_type": "execute_result"
    }
   ],
   "source": [
    "x = f[0].change_ring(GF(127^21)).roots(multiplicities=False)[0]\n",
    "P = E.change_ring(GF(127^21)).lift_x(x)\n",
    "P.order()"
   ]
  },
  {
   "cell_type": "markdown",
   "metadata": {},
   "source": [
    "### Exercise 3\n",
    "\n",
    "List all isogenies with kernel of size $43$ (i.e., of degree $43$) defined over $𝔽_{127}$."
   ]
  },
  {
   "cell_type": "markdown",
   "metadata": {},
   "source": [
    "The curve has a rational subgroup of order $43$, so that defines one isogeny. We construct a point of the right order, and from that the isogeny."
   ]
  },
  {
   "cell_type": "code",
   "execution_count": 145,
   "metadata": {},
   "outputs": [
    {
     "data": {
      "text/plain": [
       "3 * 43"
      ]
     },
     "execution_count": 145,
     "metadata": {},
     "output_type": "execute_result"
    }
   ],
   "source": [
    "E.order().factor()"
   ]
  },
  {
   "cell_type": "code",
   "execution_count": 147,
   "metadata": {},
   "outputs": [
    {
     "data": {
      "text/plain": [
       "43"
      ]
     },
     "execution_count": 147,
     "metadata": {},
     "output_type": "execute_result"
    }
   ],
   "source": [
    "P = 3 * E.gen(0)\n",
    "P.order()"
   ]
  },
  {
   "cell_type": "code",
   "execution_count": 148,
   "metadata": {},
   "outputs": [
    {
     "data": {
      "text/plain": [
       "Isogeny of degree 43 from Elliptic Curve defined by y^2 = x^3 + 95*x + 7 over Finite Field of size 127 to Elliptic Curve defined by y^2 = x^3 + 49*x + 19 over Finite Field of size 127"
      ]
     },
     "execution_count": 148,
     "metadata": {},
     "output_type": "execute_result"
    }
   ],
   "source": [
    "E.isogeny(P)"
   ]
  },
  {
   "cell_type": "markdown",
   "metadata": {},
   "source": [
    "However, that's not the only rational isogeny of degree $43$. Sage has a very convienient function that lists all rational isogenies of a given prime degree."
   ]
  },
  {
   "cell_type": "code",
   "execution_count": 152,
   "metadata": {},
   "outputs": [
    {
     "data": {
      "text/plain": [
       "[Isogeny of degree 43 from Elliptic Curve defined by y^2 = x^3 + 95*x + 7 over Finite Field of size 127 to Elliptic Curve defined by y^2 = x^3 + 49*x + 19 over Finite Field of size 127,\n",
       " Isogeny of degree 43 from Elliptic Curve defined by y^2 = x^3 + 95*x + 7 over Finite Field of size 127 to Elliptic Curve defined by y^2 = x^3 + 22*x + 73 over Finite Field of size 127]"
      ]
     },
     "execution_count": 152,
     "metadata": {},
     "output_type": "execute_result"
    }
   ],
   "source": [
    "isos = E.isogenies_prime_degree(43)\n",
    "isos"
   ]
  },
  {
   "cell_type": "markdown",
   "metadata": {},
   "source": [
    "The second of these has its kernel's points defined over $𝔽_{127^{7}}$, however the kernel as a whole is stable under the action of Frobenius, and thus the isogeny is rational by definition."
   ]
  },
  {
   "cell_type": "code",
   "execution_count": 156,
   "metadata": {},
   "outputs": [
    {
     "data": {
      "text/plain": [
       "(x^7 + 15*x^6 + 16*x^5 + 112*x^4 + 102*x^3 + 108*x^2 + 80*x + 19) * (x^7 + 24*x^6 + 25*x^5 + 107*x^4 + 7*x^3 + 80*x^2 + 74*x + 10) * (x^7 + 69*x^6 + 26*x^4 + 51*x^3 + 117*x^2 + 85*x + 48)"
      ]
     },
     "execution_count": 156,
     "metadata": {},
     "output_type": "execute_result"
    }
   ],
   "source": [
    "isos[1].kernel_polynomial().factor()"
   ]
  },
  {
   "cell_type": "markdown",
   "metadata": {},
   "source": [
    "### Exercise 4\n",
    "\n",
    "How many isogenies of degree $43$ does the curve have over $𝔽_{127^7}$?"
   ]
  },
  {
   "cell_type": "markdown",
   "metadata": {},
   "source": [
    "If we extend the base field to $𝔽_{127^7}$, `isogenies_prime_degree` takes too long to compute. Instead, we can just verify that all of $E[43]$ is defined over $𝔽_{127^7}$."
   ]
  },
  {
   "cell_type": "code",
   "execution_count": 173,
   "metadata": {},
   "outputs": [
    {
     "data": {
      "text/plain": [
       "3 * 43^2 * 2017 * 47627959"
      ]
     },
     "execution_count": 173,
     "metadata": {},
     "output_type": "execute_result"
    }
   ],
   "source": [
    "E.order(extension_degree=7).factor()"
   ]
  },
  {
   "cell_type": "markdown",
   "metadata": {},
   "source": [
    "That's almost it. We still need to check that $E(𝔽_{127^7})$ contains a subgroup isomorphic to $ℤ/43ℤ × ℤ/43ℤ$, rather than to $ℤ/43^2ℤ$.\n",
    "\n",
    "That's not particularly smart, but in this case we can just ask Sage to list all points of order $43$, and count them."
   ]
  },
  {
   "cell_type": "code",
   "execution_count": 176,
   "metadata": {},
   "outputs": [
    {
     "data": {
      "text/plain": [
       "1849"
      ]
     },
     "execution_count": 176,
     "metadata": {},
     "output_type": "execute_result"
    }
   ],
   "source": [
    "len(E.change_ring(GF(127^7))(0).division_points(43))"
   ]
  },
  {
   "cell_type": "markdown",
   "metadata": {},
   "source": [
    "Hence $E(𝔽_{127^7})[43] \\simeq ℤ/43ℤ × ℤ/43ℤ$. Counting the number of distinct isogenies of degree $43$ is the same as counting the number of distinct subgroups of order $43$. A quick reasoning shows there are $44$ of them."
   ]
  }
 ],
 "metadata": {
  "kernelspec": {
   "display_name": "SageMath 9.6",
   "language": "sage",
   "name": "sagemath"
  },
  "language_info": {
   "codemirror_mode": {
    "name": "ipython",
    "version": 3
   },
   "file_extension": ".py",
   "mimetype": "text/x-python",
   "name": "python",
   "nbconvert_exporter": "python",
   "pygments_lexer": "ipython3",
   "version": "3.10.5"
  }
 },
 "nbformat": 4,
 "nbformat_minor": 4
}
