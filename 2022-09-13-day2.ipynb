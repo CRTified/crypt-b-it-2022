{
 "cells": [
  {
   "cell_type": "markdown",
   "metadata": {},
   "source": [
    "# Complex multiplication\n",
    "\n",
    "Sage capabilities around complex multiplications, and quadratic imaginary orders in particular, are a bit limited, but still useful."
   ]
  },
  {
   "cell_type": "code",
   "execution_count": 1,
   "metadata": {},
   "outputs": [
    {
     "data": {
      "text/plain": [
       "Elliptic Curve defined by y^2 = x^3 + x over Rational Field"
      ]
     },
     "execution_count": 1,
     "metadata": {},
     "output_type": "execute_result"
    }
   ],
   "source": [
    "E = EllipticCurve([1,0])\n",
    "E"
   ]
  },
  {
   "cell_type": "markdown",
   "metadata": {},
   "source": [
    "Test whether a curve has complex multiplication"
   ]
  },
  {
   "cell_type": "code",
   "execution_count": 2,
   "metadata": {},
   "outputs": [
    {
     "data": {
      "text/plain": [
       "True"
      ]
     },
     "execution_count": 2,
     "metadata": {},
     "output_type": "execute_result"
    }
   ],
   "source": [
    "E.has_cm()"
   ]
  },
  {
   "cell_type": "markdown",
   "metadata": {},
   "source": [
    "Get the \"CM discriminant\", i.e. the discriminant of the order $\\mathcal{O}$ isomorphic to $\\mathrm{End}(E)$"
   ]
  },
  {
   "cell_type": "code",
   "execution_count": 3,
   "metadata": {},
   "outputs": [
    {
     "data": {
      "text/plain": [
       "-4"
      ]
     },
     "execution_count": 3,
     "metadata": {},
     "output_type": "execute_result"
    }
   ],
   "source": [
    "E.cm_discriminant()"
   ]
  },
  {
   "cell_type": "markdown",
   "metadata": {},
   "source": [
    "(ordinary) curves over finite fields and the Frobenius endomorphism"
   ]
  },
  {
   "cell_type": "code",
   "execution_count": 4,
   "metadata": {},
   "outputs": [
    {
     "data": {
      "text/plain": [
       "Elliptic Curve defined by y^2 = x^3 + x + 2 over Finite Field of size 101"
      ]
     },
     "execution_count": 4,
     "metadata": {},
     "output_type": "execute_result"
    }
   ],
   "source": [
    "E = EllipticCurve(GF(101), [1,2])\n",
    "E"
   ]
  },
  {
   "cell_type": "code",
   "execution_count": 5,
   "metadata": {},
   "outputs": [
    {
     "data": {
      "text/plain": [
       "4"
      ]
     },
     "execution_count": 5,
     "metadata": {},
     "output_type": "execute_result"
    }
   ],
   "source": [
    "E.j_invariant()"
   ]
  },
  {
   "cell_type": "code",
   "execution_count": 6,
   "metadata": {},
   "outputs": [
    {
     "data": {
      "text/plain": [
       "x^2 - 2*x + 101"
      ]
     },
     "execution_count": 6,
     "metadata": {},
     "output_type": "execute_result"
    }
   ],
   "source": [
    "chi = E.frobenius_polynomial()\n",
    "chi"
   ]
  },
  {
   "cell_type": "code",
   "execution_count": 7,
   "metadata": {},
   "outputs": [
    {
     "data": {
      "text/plain": [
       "-400"
      ]
     },
     "execution_count": 7,
     "metadata": {},
     "output_type": "execute_result"
    }
   ],
   "source": [
    "chi.discriminant()"
   ]
  },
  {
   "cell_type": "code",
   "execution_count": 8,
   "metadata": {},
   "outputs": [
    {
     "data": {
      "text/plain": [
       "2"
      ]
     },
     "execution_count": 8,
     "metadata": {},
     "output_type": "execute_result"
    }
   ],
   "source": [
    "E.trace_of_frobenius()"
   ]
  },
  {
   "cell_type": "code",
   "execution_count": 9,
   "metadata": {},
   "outputs": [
    {
     "data": {
      "text/plain": [
       "Order in Number Field in phi with defining polynomial x^2 - 2*x + 101"
      ]
     },
     "execution_count": 9,
     "metadata": {},
     "output_type": "execute_result"
    }
   ],
   "source": [
    "O = E.frobenius_order()\n",
    "O"
   ]
  },
  {
   "cell_type": "code",
   "execution_count": 10,
   "metadata": {},
   "outputs": [
    {
     "data": {
      "text/plain": [
       "False"
      ]
     },
     "execution_count": 10,
     "metadata": {},
     "output_type": "execute_result"
    }
   ],
   "source": [
    "O.is_maximal()"
   ]
  },
  {
   "cell_type": "code",
   "execution_count": 11,
   "metadata": {},
   "outputs": [
    {
     "data": {
      "text/plain": [
       "-400"
      ]
     },
     "execution_count": 11,
     "metadata": {},
     "output_type": "execute_result"
    }
   ],
   "source": [
    "O.discriminant()"
   ]
  },
  {
   "cell_type": "code",
   "execution_count": 12,
   "metadata": {},
   "outputs": [
    {
     "data": {
      "text/plain": [
       "Number Field in phi with defining polynomial x^2 - 2*x + 101"
      ]
     },
     "execution_count": 12,
     "metadata": {},
     "output_type": "execute_result"
    }
   ],
   "source": [
    "K = O.number_field()\n",
    "K"
   ]
  },
  {
   "cell_type": "code",
   "execution_count": 13,
   "metadata": {},
   "outputs": [
    {
     "data": {
      "text/plain": [
       "Gaussian Integers in Number Field in phi with defining polynomial x^2 - 2*x + 101"
      ]
     },
     "execution_count": 13,
     "metadata": {},
     "output_type": "execute_result"
    }
   ],
   "source": [
    "OK = K.maximal_order()\n",
    "OK"
   ]
  },
  {
   "cell_type": "code",
   "execution_count": 14,
   "metadata": {},
   "outputs": [
    {
     "data": {
      "text/plain": [
       "-4"
      ]
     },
     "execution_count": 14,
     "metadata": {},
     "output_type": "execute_result"
    }
   ],
   "source": [
    "OK.discriminant()"
   ]
  },
  {
   "cell_type": "code",
   "execution_count": 15,
   "metadata": {},
   "outputs": [
    {
     "data": {
      "text/plain": [
       "1"
      ]
     },
     "execution_count": 15,
     "metadata": {},
     "output_type": "execute_result"
    }
   ],
   "source": [
    "K.class_number()"
   ]
  },
  {
   "cell_type": "code",
   "execution_count": 16,
   "metadata": {},
   "outputs": [
    {
     "data": {
      "text/plain": [
       "Class group of order 1 of Number Field in phi with defining polynomial x^2 - 2*x + 101"
      ]
     },
     "execution_count": 16,
     "metadata": {},
     "output_type": "execute_result"
    }
   ],
   "source": [
    "K.class_group()"
   ]
  },
  {
   "cell_type": "code",
   "execution_count": 17,
   "metadata": {},
   "outputs": [
    {
     "data": {
      "text/plain": [
       "4"
      ]
     },
     "execution_count": 17,
     "metadata": {},
     "output_type": "execute_result"
    }
   ],
   "source": [
    "O.class_number()"
   ]
  },
  {
   "cell_type": "markdown",
   "metadata": {},
   "source": [
    "## Hilbert class polynomials\n",
    "\n",
    "The Hilbert class polynomial $H(-D)$ is the polynomial with coefficients in $ℤ$ whose roots are the $j$-invariants with CM by (the order of discriminant) $-D$."
   ]
  },
  {
   "cell_type": "code",
   "execution_count": 18,
   "metadata": {},
   "outputs": [
    {
     "data": {
      "text/plain": [
       "x^4 - 1938773508354872717845384224*x^3 + 12869286863161864184636279443710336*x^2 - 19075061455767889406477974994607212544*x + 87448873738295790450948276123544550117376"
      ]
     },
     "execution_count": 18,
     "metadata": {},
     "output_type": "execute_result"
    }
   ],
   "source": [
    "H = hilbert_class_polynomial(-400)\n",
    "H"
   ]
  },
  {
   "cell_type": "code",
   "execution_count": 19,
   "metadata": {},
   "outputs": [
    {
     "data": {
      "text/plain": [
       "True"
      ]
     },
     "execution_count": 19,
     "metadata": {},
     "output_type": "execute_result"
    }
   ],
   "source": [
    "H.is_irreducible()"
   ]
  },
  {
   "cell_type": "code",
   "execution_count": 20,
   "metadata": {},
   "outputs": [
    {
     "data": {
      "text/plain": [
       "(x + 7) * (x + 24) * (x + 64) * (x + 97)"
      ]
     },
     "execution_count": 20,
     "metadata": {},
     "output_type": "execute_result"
    }
   ],
   "source": [
    "H.change_ring(GF(101)).factor()"
   ]
  },
  {
   "cell_type": "markdown",
   "metadata": {},
   "source": [
    "## Exercises"
   ]
  },
  {
   "cell_type": "markdown",
   "metadata": {},
   "source": [
    "### Give the list of all elliptic curves with complex multiplication over $ℚ$\n",
    "\n",
    "(may require checking [Wikipedia](https://en.wikipedia.org/wiki/Class_number_problem))"
   ]
  },
  {
   "cell_type": "code",
   "execution_count": 38,
   "metadata": {},
   "outputs": [
    {
     "data": {
      "text/html": [
       "<html>\\(\\displaystyle y^2 + y = x^{3} - 270 x - 1708 \\)</html>"
      ],
      "text/latex": [
       "$\\displaystyle y^2 + y = x^{3} - 270 x - 1708 $"
      ],
      "text/plain": [
       "Elliptic Curve defined by y^2 + y = x^3 - 270*x - 1708 over Rational Field"
      ]
     },
     "metadata": {},
     "output_type": "display_data"
    },
    {
     "data": {
      "text/html": [
       "<html>\\(\\displaystyle y^2 + y = x^{3} - 2174420 x + 1234136692 \\)</html>"
      ],
      "text/latex": [
       "$\\displaystyle y^2 + y = x^{3} - 2174420 x + 1234136692 $"
      ],
      "text/plain": [
       "Elliptic Curve defined by y^2 + y = x^3 - 2174420*x + 1234136692 over Rational Field"
      ]
     },
     "metadata": {},
     "output_type": "display_data"
    },
    {
     "data": {
      "text/html": [
       "<html>\\(\\displaystyle y^2 + y = x^{3} - 7370 x + 243528 \\)</html>"
      ],
      "text/latex": [
       "$\\displaystyle y^2 + y = x^{3} - 7370 x + 243528 $"
      ],
      "text/plain": [
       "Elliptic Curve defined by y^2 + y = x^3 - 7370*x + 243528 over Rational Field"
      ]
     },
     "metadata": {},
     "output_type": "display_data"
    },
    {
     "data": {
      "text/html": [
       "<html>\\(\\displaystyle y^2 + y = x^{3} - 38 x + 90 \\)</html>"
      ],
      "text/latex": [
       "$\\displaystyle y^2 + y = x^{3} - 38 x + 90 $"
      ],
      "text/plain": [
       "Elliptic Curve defined by y^2 + y = x^3 - 38*x + 90 over Rational Field"
      ]
     },
     "metadata": {},
     "output_type": "display_data"
    },
    {
     "data": {
      "text/html": [
       "<html>\\(\\displaystyle y^2 + y = x^{3} - x^{2} - 7 x + 10 \\)</html>"
      ],
      "text/latex": [
       "$\\displaystyle y^2 + y = x^{3} - x^{2} - 7 x + 10 $"
      ],
      "text/plain": [
       "Elliptic Curve defined by y^2 + y = x^3 - x^2 - 7*x + 10 over Rational Field"
      ]
     },
     "metadata": {},
     "output_type": "display_data"
    },
    {
     "data": {
      "text/html": [
       "<html>\\(\\displaystyle y^2 + y = x^{3} - 860 x + 9707 \\)</html>"
      ],
      "text/latex": [
       "$\\displaystyle y^2 + y = x^{3} - 860 x + 9707 $"
      ],
      "text/plain": [
       "Elliptic Curve defined by y^2 + y = x^3 - 860*x + 9707 over Rational Field"
      ]
     },
     "metadata": {},
     "output_type": "display_data"
    },
    {
     "data": {
      "text/html": [
       "<html>\\(\\displaystyle y^2 = x^{3} + x^{2} - 3 x + 1 \\)</html>"
      ],
      "text/latex": [
       "$\\displaystyle y^2 = x^{3} + x^{2} - 3 x + 1 $"
      ],
      "text/plain": [
       "Elliptic Curve defined by y^2 = x^3 + x^2 - 3*x + 1 over Rational Field"
      ]
     },
     "metadata": {},
     "output_type": "display_data"
    },
    {
     "data": {
      "text/html": [
       "<html>\\(\\displaystyle y^2 = x^{3} - x \\)</html>"
      ],
      "text/latex": [
       "$\\displaystyle y^2 = x^{3} - x $"
      ],
      "text/plain": [
       "Elliptic Curve defined by y^2 = x^3 - x over Rational Field"
      ]
     },
     "metadata": {},
     "output_type": "display_data"
    },
    {
     "data": {
      "text/html": [
       "<html>\\(\\displaystyle y^2 = x^{3} - 11 x - 14 \\)</html>"
      ],
      "text/latex": [
       "$\\displaystyle y^2 = x^{3} - 11 x - 14 $"
      ],
      "text/plain": [
       "Elliptic Curve defined by y^2 = x^3 - 11*x - 14 over Rational Field"
      ]
     },
     "metadata": {},
     "output_type": "display_data"
    },
    {
     "data": {
      "text/html": [
       "<html>\\(\\displaystyle y^2 + y = x^{3} \\)</html>"
      ],
      "text/latex": [
       "$\\displaystyle y^2 + y = x^{3} $"
      ],
      "text/plain": [
       "Elliptic Curve defined by y^2 + y = x^3 over Rational Field"
      ]
     },
     "metadata": {},
     "output_type": "display_data"
    },
    {
     "data": {
      "text/html": [
       "<html>\\(\\displaystyle y^2 = x^{3} - 15 x + 22 \\)</html>"
      ],
      "text/latex": [
       "$\\displaystyle y^2 = x^{3} - 15 x + 22 $"
      ],
      "text/plain": [
       "Elliptic Curve defined by y^2 = x^3 - 15*x + 22 over Rational Field"
      ]
     },
     "metadata": {},
     "output_type": "display_data"
    },
    {
     "data": {
      "text/html": [
       "<html>\\(\\displaystyle y^2 + x y = x^{3} - x^{2} - 2 x - 1 \\)</html>"
      ],
      "text/latex": [
       "$\\displaystyle y^2 + x y = x^{3} - x^{2} - 2 x - 1 $"
      ],
      "text/plain": [
       "Elliptic Curve defined by y^2 + x*y = x^3 - x^2 - 2*x - 1 over Rational Field"
      ]
     },
     "metadata": {},
     "output_type": "display_data"
    },
    {
     "data": {
      "text/html": [
       "<html>\\(\\displaystyle y^2 = x^{3} - 595 x - 5586 \\)</html>"
      ],
      "text/latex": [
       "$\\displaystyle y^2 = x^{3} - 595 x - 5586 $"
      ],
      "text/plain": [
       "Elliptic Curve defined by y^2 = x^3 - 595*x - 5586 over Rational Field"
      ]
     },
     "metadata": {},
     "output_type": "display_data"
    },
    {
     "data": {
      "text/html": [
       "<html>\\(\\displaystyle 13\\)</html>"
      ],
      "text/latex": [
       "$\\displaystyle 13$"
      ],
      "text/plain": [
       "13"
      ]
     },
     "metadata": {},
     "output_type": "display_data"
    }
   ],
   "source": [
    "%display late\n",
    "js = list()\n",
    "for D in set([-3, -4, -7, -8, -11, -19, -43, -67, -163,\n",
    "             -12, -16, -27, -28,\n",
    "             -4, -8, -12, -16, -28]):\n",
    "    js += [j for j, _ in hilbert_class_polynomial(D).roots()]\n",
    "\n",
    "for j in set(js):\n",
    "    display(EllipticCurve(QQ, j=j))\n",
    "display(len(js))"
   ]
  },
  {
   "cell_type": "markdown",
   "metadata": {},
   "source": [
    "### Find a prime $p$ and an elliptic curve $E/𝔽_p$ such that $\\#E(𝔽_p) = 101$.\n",
    "\n",
    "Hint: try to find a solution to $p+1-t = 101$, then compute the discriminant of the Frobenius and use complex multiplication theory."
   ]
  },
  {
   "cell_type": "code",
   "execution_count": null,
   "metadata": {},
   "outputs": [],
   "source": []
  },
  {
   "cell_type": "markdown",
   "metadata": {},
   "source": [
    "### Use the previously found curve to construct an isogeny of degree $101^{10}$"
   ]
  },
  {
   "cell_type": "code",
   "execution_count": null,
   "metadata": {},
   "outputs": [],
   "source": []
  },
  {
   "cell_type": "markdown",
   "metadata": {},
   "source": [
    "### Let $ω ∈ ℂ$ be a cube root of unity, the ring $ℤ[ω]$ is also known as the Eisenstein integers. Determine all elliptic curves with complex multiplication by $ℤ[ω]$."
   ]
  },
  {
   "cell_type": "code",
   "execution_count": null,
   "metadata": {},
   "outputs": [],
   "source": []
  },
  {
   "cell_type": "markdown",
   "metadata": {},
   "source": [
    "### Prove that $-163$ is not a square modulo all odd primes $< 41$. \n",
    "\n",
    "Hint: Let $E/ℚ$ be an elliptic curve with complex multiplication by (an order of discriminant) $-D$. Its reduction modulo $p$ is ordinary if and only if $-D$ is a square modulo $p$."
   ]
  },
  {
   "cell_type": "code",
   "execution_count": null,
   "metadata": {},
   "outputs": [],
   "source": []
  },
  {
   "cell_type": "markdown",
   "metadata": {},
   "source": [
    "### Find an elliptic curve $E/𝔽_{1613}$ and two distinct isogenies of degree $2311$ from $E$\n",
    "\n",
    "Note: the challenge here is to make the computation run in a couple of seconds..."
   ]
  },
  {
   "cell_type": "code",
   "execution_count": null,
   "metadata": {},
   "outputs": [],
   "source": []
  },
  {
   "cell_type": "markdown",
   "metadata": {},
   "source": [
    "### Find a prime $p$ and an elliptic curve $E/𝔽_p$ such that $\\#E(𝔽_p) = 2^{127} - 1$\n",
    "\n",
    "Warning: this is obviously a difficult exercise, and requires knowledge not contained in the course (for example, of Cornacchia's algorithm)"
   ]
  },
  {
   "cell_type": "code",
   "execution_count": null,
   "metadata": {},
   "outputs": [],
   "source": []
  }
 ],
 "metadata": {
  "kernelspec": {
   "display_name": "SageMath 9.6",
   "language": "sagemath",
   "name": "sagemath"
  },
  "language_info": {
   "codemirror_mode": {
    "name": "ipython",
    "version": 3
   },
   "file_extension": ".py",
   "mimetype": "text/x-python",
   "name": "python",
   "nbconvert_exporter": "python",
   "pygments_lexer": "ipython3",
   "version": "3.10.5"
  }
 },
 "nbformat": 4,
 "nbformat_minor": 2
}
